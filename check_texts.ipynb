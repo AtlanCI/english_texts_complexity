{
 "cells": [
  {
   "cell_type": "markdown",
   "metadata": {},
   "source": [
    ">>> import sys\n",
    ">>> sys.executable\n",
    "'/usr/local/opt/python/bin/python3.7'"
   ]
  },
  {
   "cell_type": "code",
   "execution_count": 1,
   "metadata": {},
   "outputs": [
    {
     "data": {
      "text/plain": [
       "'/usr/local/opt/python/bin/python3.7'"
      ]
     },
     "execution_count": 1,
     "metadata": {},
     "output_type": "execute_result"
    }
   ],
   "source": [
    "import sys\n",
    "sys.executable"
   ]
  },
  {
   "cell_type": "code",
   "execution_count": 4,
   "metadata": {},
   "outputs": [
    {
     "name": "stdout",
     "output_type": "stream",
     "text": [
      "Requirement already satisfied: ufal.udpipe in /usr/local/lib/python3.7/site-packages (1.2.0.1)\r\n"
     ]
    }
   ],
   "source": [
    "!pip3 install ufal.udpipe"
   ]
  },
  {
   "cell_type": "code",
   "execution_count": 2,
   "metadata": {},
   "outputs": [],
   "source": [
    "import progressbar"
   ]
  },
  {
   "cell_type": "code",
   "execution_count": 3,
   "metadata": {},
   "outputs": [],
   "source": [
    "import pandas as pd\n",
    "import json"
   ]
  },
  {
   "cell_type": "code",
   "execution_count": 4,
   "metadata": {},
   "outputs": [],
   "source": [
    "def lower(text):\n",
    "    lower_text = ''\n",
    "    for word in text.split():\n",
    "        w = word.lower()\n",
    "        lower_text += w + ' '\n",
    "    lower_text = lower_text.strip()\n",
    "    return lower_text"
   ]
  },
  {
   "cell_type": "code",
   "execution_count": 5,
   "metadata": {},
   "outputs": [
    {
     "data": {
      "text/html": [
       "<div>\n",
       "<style scoped>\n",
       "    .dataframe tbody tr th:only-of-type {\n",
       "        vertical-align: middle;\n",
       "    }\n",
       "\n",
       "    .dataframe tbody tr th {\n",
       "        vertical-align: top;\n",
       "    }\n",
       "\n",
       "    .dataframe thead th {\n",
       "        text-align: right;\n",
       "    }\n",
       "</style>\n",
       "<table border=\"1\" class=\"dataframe\">\n",
       "  <thead>\n",
       "    <tr style=\"text-align: right;\">\n",
       "      <th></th>\n",
       "      <th>set_name</th>\n",
       "      <th>text</th>\n",
       "    </tr>\n",
       "  </thead>\n",
       "  <tbody>\n",
       "    <tr>\n",
       "      <th>0</th>\n",
       "      <td>the adventures of tom sawyer part 1</td>\n",
       "      <td>\"Tom!\" No answer.\\n\"TOM!\" No answer.\\nThe old ...</td>\n",
       "    </tr>\n",
       "    <tr>\n",
       "      <th>1</th>\n",
       "      <td>the adventures of tom sawyer part 1</td>\n",
       "      <td>The summer evenings were long. Tom walked alon...</td>\n",
       "    </tr>\n",
       "    <tr>\n",
       "      <th>2</th>\n",
       "      <td>the adventures of tom sawyer part 1</td>\n",
       "      <td>Tom appeared in front of the house with paint ...</td>\n",
       "    </tr>\n",
       "    <tr>\n",
       "      <th>3</th>\n",
       "      <td>the adventures of tom sawyer part 1</td>\n",
       "      <td>Tom began to think of the pleasure planned for...</td>\n",
       "    </tr>\n",
       "    <tr>\n",
       "      <th>4</th>\n",
       "      <td>the adventures of tom sawyer part 1</td>\n",
       "      <td>Tom gave the brush to Ben and he painted the f...</td>\n",
       "    </tr>\n",
       "  </tbody>\n",
       "</table>\n",
       "</div>"
      ],
      "text/plain": [
       "                              set_name  \\\n",
       "0  the adventures of tom sawyer part 1   \n",
       "1  the adventures of tom sawyer part 1   \n",
       "2  the adventures of tom sawyer part 1   \n",
       "3  the adventures of tom sawyer part 1   \n",
       "4  the adventures of tom sawyer part 1   \n",
       "\n",
       "                                                text  \n",
       "0  \"Tom!\" No answer.\\n\"TOM!\" No answer.\\nThe old ...  \n",
       "1  The summer evenings were long. Tom walked alon...  \n",
       "2  Tom appeared in front of the house with paint ...  \n",
       "3  Tom began to think of the pleasure planned for...  \n",
       "4  Tom gave the brush to Ben and he painted the f...  "
      ]
     },
     "execution_count": 5,
     "metadata": {},
     "output_type": "execute_result"
    }
   ],
   "source": [
    "with open('./texts/texts_lleo.json') as json_file:  \n",
    "    text = []\n",
    "    set_name = []\n",
    "    data = json.load(json_file)\n",
    "    for data_i in data:\n",
    "        text.append(data_i['text'])\n",
    "        set_name.append(data_i['name'])\n",
    "text_level = pd.DataFrame(\n",
    "    {'text': text,\n",
    "     'set_name': set_name\n",
    "    })\n",
    "text_level['set_name'] = text_level['set_name'].apply(lower)\n",
    "text_level.head()"
   ]
  },
  {
   "cell_type": "code",
   "execution_count": 6,
   "metadata": {},
   "outputs": [],
   "source": [
    "level_interpret = {'Elementary':0, 'PreIntermediate':1, 'Intermediate':2, 'UpperIntermediate':3, 'Advanced':4}"
   ]
  },
  {
   "cell_type": "code",
   "execution_count": 7,
   "metadata": {},
   "outputs": [],
   "source": [
    "def assign_level(name):\n",
    "    if name in name_dict:\n",
    "        return level_interpret[name_dict[name]]\n",
    "    else:\n",
    "        return None"
   ]
  },
  {
   "cell_type": "code",
   "execution_count": null,
   "metadata": {},
   "outputs": [],
   "source": [
    "text_level['level'] = text_level['set_name'].apply(assign_level)\n",
    "text_level.head()"
   ]
  },
  {
   "cell_type": "code",
   "execution_count": null,
   "metadata": {},
   "outputs": [],
   "source": [
    "text_level.info(0)"
   ]
  },
  {
   "cell_type": "code",
   "execution_count": null,
   "metadata": {},
   "outputs": [],
   "source": [
    "text_level_no_nan = text_level.dropna()\n",
    "text_level_no_nan.info()"
   ]
  },
  {
   "cell_type": "code",
   "execution_count": 2,
   "metadata": {},
   "outputs": [],
   "source": [
    "from calculate_level_new import get_features_from_raw_text"
   ]
  },
  {
   "cell_type": "code",
   "execution_count": null,
   "metadata": {},
   "outputs": [],
   "source": [
    "text_features = []\n",
    "text_ind = 0\n",
    "for text in text_level_no_nan['text']:\n",
    "    bar = progressbar.ProgressBar(maxval=len(text_level_no_nan['text']),\n",
    "                                  widgets=[progressbar.Bar('=', '[', ']'), ' ', progressbar.Percentage()])\n",
    "    bar.start()\n",
    "    \n",
    "    \n",
    "    text_features.append()\n",
    "    \n",
    "    text_ind += 1\n",
    "    bar.update(text_ind)\n",
    "    time.sleep(0.1)\n",
    "    \n",
    "    "
   ]
  },
  {
   "cell_type": "code",
   "execution_count": null,
   "metadata": {},
   "outputs": [],
   "source": []
  },
  {
   "cell_type": "code",
   "execution_count": null,
   "metadata": {},
   "outputs": [],
   "source": []
  },
  {
   "cell_type": "code",
   "execution_count": null,
   "metadata": {},
   "outputs": [],
   "source": []
  },
  {
   "cell_type": "code",
   "execution_count": null,
   "metadata": {},
   "outputs": [],
   "source": []
  },
  {
   "cell_type": "code",
   "execution_count": null,
   "metadata": {},
   "outputs": [],
   "source": []
  },
  {
   "cell_type": "code",
   "execution_count": 8,
   "metadata": {},
   "outputs": [
    {
     "data": {
      "text/html": [
       "<div>\n",
       "<style scoped>\n",
       "    .dataframe tbody tr th:only-of-type {\n",
       "        vertical-align: middle;\n",
       "    }\n",
       "\n",
       "    .dataframe tbody tr th {\n",
       "        vertical-align: top;\n",
       "    }\n",
       "\n",
       "    .dataframe thead th {\n",
       "        text-align: right;\n",
       "    }\n",
       "</style>\n",
       "<table border=\"1\" class=\"dataframe\">\n",
       "  <thead>\n",
       "    <tr style=\"text-align: right;\">\n",
       "      <th></th>\n",
       "      <th>set</th>\n",
       "      <th>level</th>\n",
       "    </tr>\n",
       "  </thead>\n",
       "  <tbody>\n",
       "    <tr>\n",
       "      <th>0</th>\n",
       "      <td>everyday life stories 1</td>\n",
       "      <td>Elementary</td>\n",
       "    </tr>\n",
       "    <tr>\n",
       "      <th>1</th>\n",
       "      <td>pocahontas</td>\n",
       "      <td>Elementary</td>\n",
       "    </tr>\n",
       "    <tr>\n",
       "      <th>2</th>\n",
       "      <td>robin hood</td>\n",
       "      <td>Elementary</td>\n",
       "    </tr>\n",
       "    <tr>\n",
       "      <th>3</th>\n",
       "      <td>the call of the wild</td>\n",
       "      <td>Elementary</td>\n",
       "    </tr>\n",
       "    <tr>\n",
       "      <th>4</th>\n",
       "      <td>around the world in eighty days</td>\n",
       "      <td>PreIntermediate</td>\n",
       "    </tr>\n",
       "  </tbody>\n",
       "</table>\n",
       "</div>"
      ],
      "text/plain": [
       "                               set            level\n",
       "0          everyday life stories 1       Elementary\n",
       "1                       pocahontas       Elementary\n",
       "2                       robin hood       Elementary\n",
       "3             the call of the wild       Elementary\n",
       "4  around the world in eighty days  PreIntermediate"
      ]
     },
     "execution_count": 8,
     "metadata": {},
     "output_type": "execute_result"
    }
   ],
   "source": [
    "set_level_df = pd.read_csv(\"./texts/set_level.csv\", sep = \",\")\n",
    "set_level_df['set'] = set_level_df['set'].apply(lower)\n",
    "set_level_df.head()"
   ]
  },
  {
   "cell_type": "code",
   "execution_count": 9,
   "metadata": {},
   "outputs": [
    {
     "data": {
      "text/plain": [
       "{'a little princess': 'PreIntermediate',\n",
       " 'alice in wonderland': 'Intermediate',\n",
       " 'anecdotes and real-life stories part 1': 'Intermediate',\n",
       " 'anecdotes and real-life stories part 2': 'Intermediate',\n",
       " 'anne of green gables': 'Intermediate',\n",
       " 'around the world in eighty days': 'PreIntermediate',\n",
       " 'art': 'UpperIntermediate',\n",
       " 'britain': 'Intermediate',\n",
       " 'business': 'Advanced',\n",
       " \"charlotte's web\": 'PreIntermediate',\n",
       " 'countries of the world': 'Advanced',\n",
       " 'detective stories': 'PreIntermediate',\n",
       " 'different stories': 'Advanced',\n",
       " 'education': 'Advanced',\n",
       " 'everyday life stories 1': 'Elementary',\n",
       " 'everyday life stories 2': 'UpperIntermediate',\n",
       " 'exploring space': 'PreIntermediate',\n",
       " 'facts about britain': 'Intermediate',\n",
       " 'family': 'Advanced',\n",
       " 'folktales': 'PreIntermediate',\n",
       " 'food': 'Advanced',\n",
       " 'health': 'Advanced',\n",
       " 'heroes in fairy tales': 'PreIntermediate',\n",
       " 'history': 'Advanced',\n",
       " 'home': 'Advanced',\n",
       " 'in the news': 'Advanced',\n",
       " 'inventions': 'Advanced',\n",
       " 'james bond part 1': 'UpperIntermediate',\n",
       " 'james bond part 2': 'UpperIntermediate',\n",
       " 'james bond part 3': 'UpperIntermediate',\n",
       " 'james bond part 4': 'UpperIntermediate',\n",
       " 'learning languages': 'Advanced',\n",
       " 'lifestyle': 'Advanced',\n",
       " 'london': 'Intermediate',\n",
       " 'make it digital': 'Advanced',\n",
       " 'manchester united': 'UpperIntermediate',\n",
       " 'movies': 'Advanced',\n",
       " 'music': 'Advanced',\n",
       " 'myths and legends': 'Intermediate',\n",
       " 'notes from an english farm': 'Advanced',\n",
       " 'nutrition': 'Advanced',\n",
       " \"o'henry part 1\": 'Intermediate',\n",
       " \"o'henry part 2\": 'Intermediate',\n",
       " \"o'henry part 3\": 'Intermediate',\n",
       " \"o'henry part 4\": 'Intermediate',\n",
       " \"o'henry part 5\": 'Intermediate',\n",
       " 'personal technology': 'Advanced',\n",
       " 'persuasion': 'Intermediate',\n",
       " 'peter pan part 1': 'Intermediate',\n",
       " 'peter pan part 2': 'Intermediate',\n",
       " 'peter pan part 3': 'Intermediate',\n",
       " 'peter pan part 4': 'Intermediate',\n",
       " 'peter pan part 5': 'Intermediate',\n",
       " 'pets': 'Advanced',\n",
       " 'planet earth': 'UpperIntermediate',\n",
       " 'pocahontas': 'Elementary',\n",
       " 'politics & economy': 'Advanced',\n",
       " 'quirky news': 'UpperIntermediate',\n",
       " 'robin hood': 'Elementary',\n",
       " 'robinson crusoe': 'Intermediate',\n",
       " 'science in news': 'Advanced',\n",
       " 'self': 'Advanced',\n",
       " 'short stories': 'UpperIntermediate',\n",
       " 'sport': 'Advanced',\n",
       " 'stories': 'Advanced',\n",
       " 'stories for great holidays': 'UpperIntermediate',\n",
       " 'studying abroad': 'UpperIntermediate',\n",
       " 'technology part 1': 'Advanced',\n",
       " 'technology part 2': 'Advanced',\n",
       " 'teens talk': 'UpperIntermediate',\n",
       " 'the adventures of huckleberry finn': 'UpperIntermediate',\n",
       " 'the adventures of sherlock holmes': 'UpperIntermediate',\n",
       " 'the adventures of tom sawyer part 1': 'PreIntermediate',\n",
       " 'the adventures of tom sawyer part 2': 'PreIntermediate',\n",
       " 'the call of the wild': 'Elementary',\n",
       " 'the count of monte cristo': 'Intermediate',\n",
       " 'the great people': 'Advanced',\n",
       " 'the memoirs of sherlock holmes': 'Advanced',\n",
       " 'the secret garden': 'UpperIntermediate',\n",
       " 'the thirty-nine steps part 1': 'UpperIntermediate',\n",
       " 'the thirty-nine steps part 2': 'UpperIntermediate',\n",
       " 'the woman in black': 'PreIntermediate',\n",
       " 'travel tips': 'UpperIntermediate',\n",
       " 'travel to the uk': 'Advanced',\n",
       " 'traveling part 1': 'Advanced',\n",
       " 'traveling part 2': 'Advanced',\n",
       " 'traveling part 3': 'Advanced',\n",
       " 'views of the americas': 'Advanced',\n",
       " 'wildlife wonders': 'UpperIntermediate',\n",
       " 'work and career': 'Advanced'}"
      ]
     },
     "execution_count": 9,
     "metadata": {},
     "output_type": "execute_result"
    }
   ],
   "source": [
    "name_dict = pd.Series(set_level_df.level.values,index=set_level_df.set).to_dict()\n",
    "name_dict"
   ]
  },
  {
   "cell_type": "code",
   "execution_count": 10,
   "metadata": {},
   "outputs": [
    {
     "data": {
      "text/plain": [
       "91"
      ]
     },
     "execution_count": 10,
     "metadata": {},
     "output_type": "execute_result"
    }
   ],
   "source": [
    "set_names_from_db = set(text_level['set_name'])\n",
    "len(set_names_from_db)"
   ]
  },
  {
   "cell_type": "code",
   "execution_count": null,
   "metadata": {
    "scrolled": true
   },
   "outputs": [],
   "source": [
    "set_names_from_db"
   ]
  },
  {
   "cell_type": "code",
   "execution_count": null,
   "metadata": {},
   "outputs": [],
   "source": [
    "set_names_from_gd = set(set_level_df['set'])\n",
    "len(set_names_from_gd)"
   ]
  },
  {
   "cell_type": "code",
   "execution_count": null,
   "metadata": {
    "scrolled": true
   },
   "outputs": [],
   "source": [
    "set_names_from_gd"
   ]
  },
  {
   "cell_type": "code",
   "execution_count": null,
   "metadata": {},
   "outputs": [],
   "source": [
    "'charlotte’s web' in set_names_from_gd"
   ]
  },
  {
   "cell_type": "code",
   "execution_count": null,
   "metadata": {},
   "outputs": [],
   "source": [
    "\"charlotte's web\" in set_names_from_gd"
   ]
  },
  {
   "cell_type": "code",
   "execution_count": null,
   "metadata": {},
   "outputs": [],
   "source": [
    "set_names_from_db - set_names_from_gd"
   ]
  },
  {
   "cell_type": "code",
   "execution_count": null,
   "metadata": {},
   "outputs": [],
   "source": [
    "text_level['text'][0]"
   ]
  },
  {
   "cell_type": "code",
   "execution_count": null,
   "metadata": {},
   "outputs": [],
   "source": [
    "from calculate_level_new import get_level_from_raw_text"
   ]
  },
  {
   "cell_type": "code",
   "execution_count": null,
   "metadata": {
    "scrolled": true
   },
   "outputs": [],
   "source": [
    "get_level_from_raw_text(text_level['text'][0])"
   ]
  },
  {
   "cell_type": "code",
   "execution_count": null,
   "metadata": {},
   "outputs": [],
   "source": [
    "text_level['calculated_level'] = text_level['text'].apply(get_level_from_raw_text)"
   ]
  },
  {
   "cell_type": "code",
   "execution_count": null,
   "metadata": {},
   "outputs": [],
   "source": [
    "text_level.info()"
   ]
  }
 ],
 "metadata": {
  "kernelspec": {
   "display_name": "Python 3",
   "language": "python",
   "name": "python3"
  },
  "language_info": {
   "codemirror_mode": {
    "name": "ipython",
    "version": 3
   },
   "file_extension": ".py",
   "mimetype": "text/x-python",
   "name": "python",
   "nbconvert_exporter": "python",
   "pygments_lexer": "ipython3",
   "version": "3.7.3"
  }
 },
 "nbformat": 4,
 "nbformat_minor": 2
}
