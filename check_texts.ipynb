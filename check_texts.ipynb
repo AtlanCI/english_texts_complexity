{
 "cells": [
  {
   "cell_type": "code",
   "execution_count": 5,
   "metadata": {},
   "outputs": [],
   "source": [
    "import pandas as pd"
   ]
  },
  {
   "cell_type": "code",
   "execution_count": null,
   "metadata": {
    "scrolled": true
   },
   "outputs": [],
   "source": [
    "df = pd.read_csv(\"./texts/texts_lleo.csv\", sep = \";\")\n",
    "df.head()"
   ]
  },
  {
   "cell_type": "code",
   "execution_count": 3,
   "metadata": {},
   "outputs": [],
   "source": [
    "import json"
   ]
  },
  {
   "cell_type": "code",
   "execution_count": 47,
   "metadata": {},
   "outputs": [],
   "source": [
    "def lower(text):\n",
    "    lower_text = ''\n",
    "    for word in text.split():\n",
    "        w = word.lower()\n",
    "        lower_text += w + ' '\n",
    "    lower_text = lower_text.strip()\n",
    "    return lower_text"
   ]
  },
  {
   "cell_type": "code",
   "execution_count": 62,
   "metadata": {},
   "outputs": [
    {
     "data": {
      "text/html": [
       "<div>\n",
       "<style scoped>\n",
       "    .dataframe tbody tr th:only-of-type {\n",
       "        vertical-align: middle;\n",
       "    }\n",
       "\n",
       "    .dataframe tbody tr th {\n",
       "        vertical-align: top;\n",
       "    }\n",
       "\n",
       "    .dataframe thead th {\n",
       "        text-align: right;\n",
       "    }\n",
       "</style>\n",
       "<table border=\"1\" class=\"dataframe\">\n",
       "  <thead>\n",
       "    <tr style=\"text-align: right;\">\n",
       "      <th></th>\n",
       "      <th>text</th>\n",
       "      <th>set_name</th>\n",
       "    </tr>\n",
       "  </thead>\n",
       "  <tbody>\n",
       "    <tr>\n",
       "      <th>0</th>\n",
       "      <td>\"Tom!\" No answer.\\n\"TOM!\" No answer.\\nThe old ...</td>\n",
       "      <td>the adventures of tom sawyer part 1</td>\n",
       "    </tr>\n",
       "    <tr>\n",
       "      <th>1</th>\n",
       "      <td>The summer evenings were long. Tom walked alon...</td>\n",
       "      <td>the adventures of tom sawyer part 1</td>\n",
       "    </tr>\n",
       "    <tr>\n",
       "      <th>2</th>\n",
       "      <td>Tom appeared in front of the house with paint ...</td>\n",
       "      <td>the adventures of tom sawyer part 1</td>\n",
       "    </tr>\n",
       "    <tr>\n",
       "      <th>3</th>\n",
       "      <td>Tom began to think of the pleasure planned for...</td>\n",
       "      <td>the adventures of tom sawyer part 1</td>\n",
       "    </tr>\n",
       "    <tr>\n",
       "      <th>4</th>\n",
       "      <td>Tom gave the brush to Ben and he painted the f...</td>\n",
       "      <td>the adventures of tom sawyer part 1</td>\n",
       "    </tr>\n",
       "  </tbody>\n",
       "</table>\n",
       "</div>"
      ],
      "text/plain": [
       "                                                text  \\\n",
       "0  \"Tom!\" No answer.\\n\"TOM!\" No answer.\\nThe old ...   \n",
       "1  The summer evenings were long. Tom walked alon...   \n",
       "2  Tom appeared in front of the house with paint ...   \n",
       "3  Tom began to think of the pleasure planned for...   \n",
       "4  Tom gave the brush to Ben and he painted the f...   \n",
       "\n",
       "                              set_name  \n",
       "0  the adventures of tom sawyer part 1  \n",
       "1  the adventures of tom sawyer part 1  \n",
       "2  the adventures of tom sawyer part 1  \n",
       "3  the adventures of tom sawyer part 1  \n",
       "4  the adventures of tom sawyer part 1  "
      ]
     },
     "execution_count": 62,
     "metadata": {},
     "output_type": "execute_result"
    }
   ],
   "source": [
    "with open('./texts/texts_lleo.json') as json_file:  \n",
    "    text = []\n",
    "    set_name = []\n",
    "    data = json.load(json_file)\n",
    "    for data_i in data:\n",
    "        text.append(data_i['text'])\n",
    "        set_name.append(data_i['name'])\n",
    "text_level = pd.DataFrame(\n",
    "    {'text': text,\n",
    "     'set_name': set_name\n",
    "    })\n",
    "text_level['set_name'] = text_level['set_name'].apply(lower)\n",
    "text_level.head()"
   ]
  },
  {
   "cell_type": "code",
   "execution_count": null,
   "metadata": {},
   "outputs": [],
   "source": []
  },
  {
   "cell_type": "code",
   "execution_count": 94,
   "metadata": {},
   "outputs": [
    {
     "data": {
      "text/html": [
       "<div>\n",
       "<style scoped>\n",
       "    .dataframe tbody tr th:only-of-type {\n",
       "        vertical-align: middle;\n",
       "    }\n",
       "\n",
       "    .dataframe tbody tr th {\n",
       "        vertical-align: top;\n",
       "    }\n",
       "\n",
       "    .dataframe thead th {\n",
       "        text-align: right;\n",
       "    }\n",
       "</style>\n",
       "<table border=\"1\" class=\"dataframe\">\n",
       "  <thead>\n",
       "    <tr style=\"text-align: right;\">\n",
       "      <th></th>\n",
       "      <th>set</th>\n",
       "      <th>level</th>\n",
       "    </tr>\n",
       "  </thead>\n",
       "  <tbody>\n",
       "    <tr>\n",
       "      <th>0</th>\n",
       "      <td>everyday life stories 1</td>\n",
       "      <td>Elementary</td>\n",
       "    </tr>\n",
       "    <tr>\n",
       "      <th>1</th>\n",
       "      <td>pocahontas</td>\n",
       "      <td>Elementary</td>\n",
       "    </tr>\n",
       "    <tr>\n",
       "      <th>2</th>\n",
       "      <td>robin hood</td>\n",
       "      <td>Elementary</td>\n",
       "    </tr>\n",
       "    <tr>\n",
       "      <th>3</th>\n",
       "      <td>the call of the wild</td>\n",
       "      <td>Elementary</td>\n",
       "    </tr>\n",
       "    <tr>\n",
       "      <th>4</th>\n",
       "      <td>around the world in eighty days</td>\n",
       "      <td>PreIntermediate</td>\n",
       "    </tr>\n",
       "  </tbody>\n",
       "</table>\n",
       "</div>"
      ],
      "text/plain": [
       "                               set            level\n",
       "0          everyday life stories 1       Elementary\n",
       "1                       pocahontas       Elementary\n",
       "2                       robin hood       Elementary\n",
       "3             the call of the wild       Elementary\n",
       "4  around the world in eighty days  PreIntermediate"
      ]
     },
     "execution_count": 94,
     "metadata": {},
     "output_type": "execute_result"
    }
   ],
   "source": [
    "set_level_df = pd.read_csv(\"./texts/set_level.csv\", sep = \",\")\n",
    "set_level_df['set'] = set_level_df['set'].apply(lower)\n",
    "set_level_df.head()"
   ]
  },
  {
   "cell_type": "code",
   "execution_count": 86,
   "metadata": {},
   "outputs": [
    {
     "data": {
      "text/plain": [
       "91"
      ]
     },
     "execution_count": 86,
     "metadata": {},
     "output_type": "execute_result"
    }
   ],
   "source": [
    "set_names_from_db = set(text_level['set_name'])\n",
    "len(set_names_from_db)"
   ]
  },
  {
   "cell_type": "code",
   "execution_count": 87,
   "metadata": {
    "scrolled": true
   },
   "outputs": [
    {
     "data": {
      "text/plain": [
       "{'a little princess',\n",
       " 'alice in wonderland',\n",
       " 'anecdotes and real-life stories part 1',\n",
       " 'anecdotes and real-life stories part 2',\n",
       " 'anne of green gables',\n",
       " 'around the world in eighty days',\n",
       " 'art',\n",
       " 'britain',\n",
       " 'business',\n",
       " \"charlotte's web\",\n",
       " 'countries of the world',\n",
       " 'detective stories',\n",
       " 'different stories',\n",
       " 'education',\n",
       " 'everyday life stories 1',\n",
       " 'everyday life stories 2',\n",
       " 'exploring space',\n",
       " 'facts about britain',\n",
       " 'family',\n",
       " 'folktales',\n",
       " 'food',\n",
       " 'health',\n",
       " 'heroes in fairy tales',\n",
       " 'history',\n",
       " 'home',\n",
       " 'in the news',\n",
       " 'inventions',\n",
       " 'james bond part 1',\n",
       " 'james bond part 2',\n",
       " 'james bond part 3',\n",
       " 'james bond part 4',\n",
       " 'learning languages',\n",
       " 'lifestyle',\n",
       " 'london',\n",
       " 'make it digital',\n",
       " 'manchester united',\n",
       " 'movies',\n",
       " 'music',\n",
       " 'myths and legends',\n",
       " 'notes from an english farm',\n",
       " 'nutrition',\n",
       " \"o'henry part 1\",\n",
       " \"o'henry part 2\",\n",
       " \"o'henry part 3\",\n",
       " \"o'henry part 4\",\n",
       " \"o'henry part 5\",\n",
       " 'personal technology',\n",
       " 'persuasion',\n",
       " 'peter pan part 1',\n",
       " 'peter pan part 2',\n",
       " 'peter pan part 3',\n",
       " 'peter pan part 4',\n",
       " 'peter pan part 5',\n",
       " 'pets',\n",
       " 'planet earth',\n",
       " 'pocahontas',\n",
       " 'politics & economy',\n",
       " 'quirky news',\n",
       " 'robin hood',\n",
       " 'robinson crusoe',\n",
       " 'science in news',\n",
       " 'self',\n",
       " 'short stories',\n",
       " 'sport',\n",
       " 'stories',\n",
       " 'stories for great holidays',\n",
       " 'studying abroad',\n",
       " 'technology part 1',\n",
       " 'technology part 2',\n",
       " 'teens talk',\n",
       " 'the adventures of huckleberry finn',\n",
       " 'the adventures of sherlock holmes',\n",
       " 'the adventures of tom sawyer part 1',\n",
       " 'the adventures of tom sawyer part 2',\n",
       " 'the call of the wild',\n",
       " 'the count of monte cristo',\n",
       " 'the great people',\n",
       " 'the memoirs of sherlock holmes',\n",
       " 'the scarlet letter',\n",
       " 'the secret garden',\n",
       " 'the thirty-nine steps part 1',\n",
       " 'the thirty-nine steps part 2',\n",
       " 'the woman in black',\n",
       " 'travel tips',\n",
       " 'travel to the uk',\n",
       " 'traveling part 1',\n",
       " 'traveling part 2',\n",
       " 'traveling part 3',\n",
       " 'views of the americas',\n",
       " 'wildlife wonders',\n",
       " 'work and career'}"
      ]
     },
     "execution_count": 87,
     "metadata": {},
     "output_type": "execute_result"
    }
   ],
   "source": [
    "set_names_from_db"
   ]
  },
  {
   "cell_type": "code",
   "execution_count": 95,
   "metadata": {},
   "outputs": [
    {
     "data": {
      "text/plain": [
       "90"
      ]
     },
     "execution_count": 95,
     "metadata": {},
     "output_type": "execute_result"
    }
   ],
   "source": [
    "set_names_from_gd = set(set_level_df['set'])\n",
    "len(set_names_from_gd)"
   ]
  },
  {
   "cell_type": "code",
   "execution_count": 89,
   "metadata": {
    "scrolled": true
   },
   "outputs": [
    {
     "data": {
      "text/plain": [
       "{'a little princess',\n",
       " 'alice in wonderland',\n",
       " 'anecdotes and real-life stories part 1',\n",
       " 'anecdotes and real-life stories part 2',\n",
       " 'anne of green gables',\n",
       " 'around the world in eighty days',\n",
       " 'art',\n",
       " 'britain',\n",
       " 'business',\n",
       " 'charlotte’s web',\n",
       " 'countries of the world',\n",
       " 'detective stories',\n",
       " 'different stories',\n",
       " 'education',\n",
       " 'everyday life stories 1',\n",
       " 'everyday life stories 2',\n",
       " 'exploring space',\n",
       " 'facts about britain',\n",
       " 'family',\n",
       " 'folktales',\n",
       " 'food',\n",
       " 'health',\n",
       " 'heroes in fairy tales',\n",
       " 'history',\n",
       " 'home',\n",
       " 'in the news',\n",
       " 'inventions',\n",
       " 'james bond part 1',\n",
       " 'james bond part 2',\n",
       " 'james bond part 3',\n",
       " 'james bond part 4',\n",
       " 'learning languages',\n",
       " 'lifestyle',\n",
       " 'london',\n",
       " 'make it digital',\n",
       " 'manchester united',\n",
       " 'movies',\n",
       " 'music',\n",
       " 'myths and legends',\n",
       " 'notes from an english farm',\n",
       " 'nutrition',\n",
       " 'o’henry part 1',\n",
       " 'o’henry part 2',\n",
       " 'o’henry part 3',\n",
       " 'o’henry part 4',\n",
       " 'o’henry part 5',\n",
       " 'personal technology',\n",
       " 'persuasion',\n",
       " 'peter pan part 1',\n",
       " 'peter pan part 2',\n",
       " 'peter pan part 3',\n",
       " 'peter pan part 4',\n",
       " 'peter pan part 5',\n",
       " 'pets',\n",
       " 'planet earth',\n",
       " 'pocahontas',\n",
       " 'politics & economy',\n",
       " 'quirky news',\n",
       " 'robin hood',\n",
       " 'robinson crusoe',\n",
       " 'science in news',\n",
       " 'self',\n",
       " 'short stories',\n",
       " 'sport',\n",
       " 'stories',\n",
       " 'stories for great holidays',\n",
       " 'studying abroad',\n",
       " 'technology part 1',\n",
       " 'technology part 2',\n",
       " 'teens talk',\n",
       " 'the adventures of huckleberry finn',\n",
       " 'the adventures of sherlock holmes',\n",
       " 'the adventures of tom soyer part 1',\n",
       " 'the adventures of tom soyer part 2',\n",
       " 'the call of the wild',\n",
       " 'the count of monte cristo',\n",
       " 'the great people',\n",
       " 'the memoirs of sherlock holmes',\n",
       " 'the secret garden',\n",
       " 'the thirty-nine steps part 1',\n",
       " 'the thirty-nine steps part 2',\n",
       " 'the woman in black',\n",
       " 'travel tips',\n",
       " 'travel to the uk',\n",
       " 'traveling part 1',\n",
       " 'traveling part 2',\n",
       " 'traveling part 3',\n",
       " 'views of the americas',\n",
       " 'wildlife wonders',\n",
       " 'work and career'}"
      ]
     },
     "execution_count": 89,
     "metadata": {},
     "output_type": "execute_result"
    }
   ],
   "source": [
    "set_names_from_gd"
   ]
  },
  {
   "cell_type": "code",
   "execution_count": 69,
   "metadata": {},
   "outputs": [
    {
     "data": {
      "text/plain": [
       "True"
      ]
     },
     "execution_count": 69,
     "metadata": {},
     "output_type": "execute_result"
    }
   ],
   "source": [
    "'charlotte’s web' in set_names_from_gd"
   ]
  },
  {
   "cell_type": "code",
   "execution_count": 70,
   "metadata": {},
   "outputs": [
    {
     "data": {
      "text/plain": [
       "False"
      ]
     },
     "execution_count": 70,
     "metadata": {},
     "output_type": "execute_result"
    }
   ],
   "source": [
    "\"charlotte's web\" in set_names_from_gd"
   ]
  },
  {
   "cell_type": "code",
   "execution_count": 96,
   "metadata": {},
   "outputs": [
    {
     "data": {
      "text/plain": [
       "{'the scarlet letter'}"
      ]
     },
     "execution_count": 96,
     "metadata": {},
     "output_type": "execute_result"
    }
   ],
   "source": [
    "set_names_from_db - set_names_from_gd"
   ]
  },
  {
   "cell_type": "code",
   "execution_count": 8,
   "metadata": {},
   "outputs": [
    {
     "data": {
      "text/plain": [
       "'\"Tom!\" No answer.\\n\"TOM!\" No answer.\\nThe old lady looked around the room.\\n\"When I find you, I—\" She did not finish. With her head down, she was looking under the bed. Only the cat came out.\\nThere was a little noise behind her. She turned and caught a small boy, stopping him before he could escape.\\n\"What were you doing in that corner?\" \"Nothing.\" \"Nothing! What is that on your hands and face?\" \"You have been eating sweets. I have told you a hundred times not to eat those sweets.\" Her hand was raised in the air—it started down—it was very near— \"Oh! Look behind you, Aunt!\" The old lady turned. The boy ran. In a moment he was up on the high board fence. Then he was on the far side of it. Aunt Polly was surprised. Then she laughed a little.'"
      ]
     },
     "execution_count": 8,
     "metadata": {},
     "output_type": "execute_result"
    }
   ],
   "source": [
    "text_level['text'][0]"
   ]
  },
  {
   "cell_type": "code",
   "execution_count": 1,
   "metadata": {},
   "outputs": [],
   "source": [
    "from calculate_level_new import get_level_from_raw_text"
   ]
  },
  {
   "cell_type": "code",
   "execution_count": 9,
   "metadata": {
    "scrolled": true
   },
   "outputs": [
    {
     "data": {
      "text/plain": [
       "'A2'"
      ]
     },
     "execution_count": 9,
     "metadata": {},
     "output_type": "execute_result"
    }
   ],
   "source": [
    "get_level_from_raw_text(text_level['text'][0])"
   ]
  },
  {
   "cell_type": "code",
   "execution_count": 17,
   "metadata": {},
   "outputs": [],
   "source": [
    "text_level['calculated_level'] = text_level['text'].apply(get_level_from_raw_text)"
   ]
  },
  {
   "cell_type": "code",
   "execution_count": null,
   "metadata": {},
   "outputs": [],
   "source": [
    "text_level.info()"
   ]
  }
 ],
 "metadata": {
  "kernelspec": {
   "display_name": "Python 3",
   "language": "python",
   "name": "python3"
  },
  "language_info": {
   "codemirror_mode": {
    "name": "ipython",
    "version": 3
   },
   "file_extension": ".py",
   "mimetype": "text/x-python",
   "name": "python",
   "nbconvert_exporter": "python",
   "pygments_lexer": "ipython3",
   "version": "3.7.3"
  }
 },
 "nbformat": 4,
 "nbformat_minor": 2
}
