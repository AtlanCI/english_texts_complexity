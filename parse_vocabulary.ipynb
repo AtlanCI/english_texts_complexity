{
 "cells": [
  {
   "cell_type": "code",
   "execution_count": 1,
   "metadata": {},
   "outputs": [],
   "source": [
    "from bs4 import BeautifulSoup\n",
    "\n",
    "import re\n",
    "\n",
    "from os import listdir\n",
    "from os.path import isfile, join\n",
    "\n",
    "import string\n"
   ]
  },
  {
   "cell_type": "code",
   "execution_count": 24,
   "metadata": {
    "collapsed": true
   },
   "outputs": [],
   "source": [
    "vocab_html_files = [f for f in listdir(\"./Eng_vocab\") if f.endswith(\".html\")]"
   ]
  },
  {
   "cell_type": "code",
   "execution_count": 69,
   "metadata": {},
   "outputs": [
    {
     "data": {
      "text/plain": [
       "['do', 'the', 'cleaning', 'cooking', 'etc']"
      ]
     },
     "execution_count": 69,
     "metadata": {},
     "output_type": "execute_result"
    }
   ],
   "source": [
    "ex = 'do the cleaning/cooking, etc.'\n",
    "exclude = set(string.punctuation)\n",
    "def preprocess (line):\n",
    "    line = line.split()\n",
    "    final_split = []\n",
    "    for ex_el in line:\n",
    "        fin_elements = ex_el.split('/')\n",
    "        fin_elements = [''.join(ch for ch in el if ch not in exclude) for el in fin_elements]\n",
    "        #fin_elements = [el.replace('...', '') for el in fin_elements]\n",
    "        fin_elements = [el.lower() for el in fin_elements]\n",
    "        final_split.extend(fin_elements)\n",
    "    try:\n",
    "        final_split.remove(\"etc.\")\n",
    "    except:\n",
    "        pass\n",
    "    return final_split\n",
    "preprocess(ex)"
   ]
  },
  {
   "cell_type": "code",
   "execution_count": null,
   "metadata": {
    "collapsed": true
   },
   "outputs": [],
   "source": [
    "exclude = set(string.punctuation)\n",
    "s = ''.join(ch for ch in s if ch not in exclude)"
   ]
  },
  {
   "cell_type": "code",
   "execution_count": 66,
   "metadata": {},
   "outputs": [
    {
     "data": {
      "text/plain": [
       "'sdasd'"
      ]
     },
     "execution_count": 66,
     "metadata": {},
     "output_type": "execute_result"
    }
   ],
   "source": [
    "a = 'sdasd,'\n",
    "exclude = set(string.punctuation)\n",
    "s = ''.join(ch for ch in a if ch not in exclude)\n",
    "s"
   ]
  },
  {
   "cell_type": "code",
   "execution_count": 73,
   "metadata": {},
   "outputs": [],
   "source": [
    "vocabulary = []\n",
    "for voc_file in vocab_html_files:\n",
    "    soup = BeautifulSoup(open(join(\"./Eng_vocab\", voc_file)), 'html.parser')\n",
    "    #print(voc_file)\n",
    "    for el in soup.find_all(\"span\",{'class':'base'}):\n",
    "        line = el.text\n",
    "        #print(line)\n",
    "        split_line = preprocess(line)\n",
    "        #print(split_line)\n",
    "        vocabulary.extend(split_line)\n",
    "vocabulary = set(vocabulary)"
   ]
  },
  {
   "cell_type": "code",
   "execution_count": 72,
   "metadata": {
    "collapsed": true
   },
   "outputs": [],
   "source": [
    "with open(\"A1_vocab_processed.txt\", \"w\") as file:\n",
    "    for word in vocabulary:\n",
    "        file.write(word + '\\n')"
   ]
  },
  {
   "cell_type": "code",
   "execution_count": 9,
   "metadata": {},
   "outputs": [
    {
     "name": "stderr",
     "output_type": "stream",
     "text": [
      "C:\\Users\\Asus\\Anaconda3\\lib\\site-packages\\bs4\\__init__.py:181: UserWarning: No parser was explicitly specified, so I'm using the best available HTML parser for this system (\"lxml\"). This usually isn't a problem, but if you run this code on another system, or in a different virtual environment, it may use a different parser and behave differently.\n",
      "\n",
      "The code that caused this warning is on line 193 of the file C:\\Users\\Asus\\Anaconda3\\lib\\runpy.py. To get rid of this warning, change code that looks like this:\n",
      "\n",
      " BeautifulSoup(YOUR_MARKUP})\n",
      "\n",
      "to this:\n",
      "\n",
      " BeautifulSoup(YOUR_MARKUP, \"lxml\")\n",
      "\n",
      "  markup_type=markup_type))\n"
     ]
    }
   ],
   "source": [
    "with open('.\\\\materials\\\\phrasal_verbs\\\\200_pv.html', 'rb') as html:\n",
    "    soup = BeautifulSoup(html)"
   ]
  },
  {
   "cell_type": "code",
   "execution_count": 20,
   "metadata": {},
   "outputs": [],
   "source": [
    "phrsal_verbs = []\n",
    "for s in soup.find_all(\"td\"):\n",
    "    text = s.text\n",
    "    split_text = text.split(' ')\n",
    "   \n",
    "    if(len(split_text) == 2): \n",
    "        #print(len(split_text))\n",
    "        #print(text)\n",
    "        phrsal_verbs.append(text)\n",
    "\n",
    "    "
   ]
  },
  {
   "cell_type": "code",
   "execution_count": 28,
   "metadata": {},
   "outputs": [
    {
     "name": "stderr",
     "output_type": "stream",
     "text": [
      "C:\\Users\\Asus\\Anaconda3\\lib\\site-packages\\bs4\\__init__.py:181: UserWarning: No parser was explicitly specified, so I'm using the best available HTML parser for this system (\"lxml\"). This usually isn't a problem, but if you run this code on another system, or in a different virtual environment, it may use a different parser and behave differently.\n",
      "\n",
      "The code that caused this warning is on line 193 of the file C:\\Users\\Asus\\Anaconda3\\lib\\runpy.py. To get rid of this warning, change code that looks like this:\n",
      "\n",
      " BeautifulSoup(YOUR_MARKUP})\n",
      "\n",
      "to this:\n",
      "\n",
      " BeautifulSoup(YOUR_MARKUP, \"lxml\")\n",
      "\n",
      "  markup_type=markup_type))\n"
     ]
    }
   ],
   "source": [
    "phrsal_verbs_2 = []\n",
    "with open('.//materials//phrasal_verbs//Common Phrasal Verbs.html', 'rb') as html:\n",
    "    soup = BeautifulSoup(html)\n",
    "    for s in soup.find_all(\"td\"):\n",
    "        text = s.text\n",
    "        split_text = text.split(' ')\n",
    "\n",
    "        if(len(split_text) == 2): \n",
    "            #print(len(split_text))\n",
    "            #print(text)\n",
    "            phrsal_verbs_2.append(text)"
   ]
  },
  {
   "cell_type": "code",
   "execution_count": null,
   "metadata": {},
   "outputs": [],
   "source": [
    "phrsal_verbs.extend(phrsal_verbs_2)"
   ]
  },
  {
   "cell_type": "code",
   "execution_count": 29,
   "metadata": {},
   "outputs": [],
   "source": [
    "with open(\"phrasal_verbs.txt\", \"w\") as file:\n",
    "    for word in phrsal_verbs:\n",
    "        file.write(word + '\\n')"
   ]
  },
  {
   "cell_type": "code",
   "execution_count": null,
   "metadata": {},
   "outputs": [],
   "source": []
  },
  {
   "cell_type": "code",
   "execution_count": null,
   "metadata": {},
   "outputs": [],
   "source": [
    "COUNTRIES"
   ]
  },
  {
   "cell_type": "code",
   "execution_count": 34,
   "metadata": {},
   "outputs": [
    {
     "name": "stderr",
     "output_type": "stream",
     "text": [
      "C:\\Users\\Asus\\Anaconda3\\lib\\site-packages\\bs4\\__init__.py:181: UserWarning: No parser was explicitly specified, so I'm using the best available HTML parser for this system (\"lxml\"). This usually isn't a problem, but if you run this code on another system, or in a different virtual environment, it may use a different parser and behave differently.\n",
      "\n",
      "The code that caused this warning is on line 193 of the file C:\\Users\\Asus\\Anaconda3\\lib\\runpy.py. To get rid of this warning, change code that looks like this:\n",
      "\n",
      " BeautifulSoup(YOUR_MARKUP})\n",
      "\n",
      "to this:\n",
      "\n",
      " BeautifulSoup(YOUR_MARKUP, \"lxml\")\n",
      "\n",
      "  markup_type=markup_type))\n"
     ]
    }
   ],
   "source": [
    "countries = []\n",
    "with open('.//materials//names_countries//countries.html', 'rb') as html:\n",
    "    soup = BeautifulSoup(html)\n",
    "    for s in soup.find_all(\"a\",{'class':'md-crosslink'}):\n",
    "        country = (s.text)\n",
    "        if(country[0].isupper()):\n",
    "            \n",
    "            country = country.lower()\n",
    "            countries.append(country)"
   ]
  },
  {
   "cell_type": "code",
   "execution_count": 37,
   "metadata": {},
   "outputs": [],
   "source": [
    "with open(\".//materials//countries.txt\", \"w\", encoding = \"utf-8\") as file:\n",
    "    for word in countries:\n",
    "        file.write(word + '\\n')"
   ]
  },
  {
   "cell_type": "code",
   "execution_count": null,
   "metadata": {},
   "outputs": [],
   "source": []
  },
  {
   "cell_type": "markdown",
   "metadata": {},
   "source": [
    "# NAMES"
   ]
  },
  {
   "cell_type": "code",
   "execution_count": 41,
   "metadata": {},
   "outputs": [
    {
     "name": "stdout",
     "output_type": "stream",
     "text": [
      "['geeks', 'for', 'geeks']\n"
     ]
    }
   ],
   "source": [
    "text = 'geeks for geeks'\n",
    "  \n",
    "# Splits at space \n",
    "print(text.split())"
   ]
  },
  {
   "cell_type": "code",
   "execution_count": 42,
   "metadata": {},
   "outputs": [
    {
     "data": {
      "text/plain": [
       "str"
      ]
     },
     "execution_count": 42,
     "metadata": {},
     "output_type": "execute_result"
    }
   ],
   "source": [
    "type(text)"
   ]
  },
  {
   "cell_type": "code",
   "execution_count": 48,
   "metadata": {},
   "outputs": [
    {
     "name": "stderr",
     "output_type": "stream",
     "text": [
      "C:\\Users\\Asus\\Anaconda3\\lib\\site-packages\\bs4\\__init__.py:181: UserWarning: No parser was explicitly specified, so I'm using the best available HTML parser for this system (\"lxml\"). This usually isn't a problem, but if you run this code on another system, or in a different virtual environment, it may use a different parser and behave differently.\n",
      "\n",
      "The code that caused this warning is on line 193 of the file C:\\Users\\Asus\\Anaconda3\\lib\\runpy.py. To get rid of this warning, change code that looks like this:\n",
      "\n",
      " BeautifulSoup(YOUR_MARKUP})\n",
      "\n",
      "to this:\n",
      "\n",
      " BeautifulSoup(YOUR_MARKUP, \"lxml\")\n",
      "\n",
      "  markup_type=markup_type))\n"
     ]
    }
   ],
   "source": [
    "man_name = []\n",
    "exclude = set(string.punctuation + \"’\" +\"“\" + \"”\"  + \"–\" )\n",
    "with open('.//materials//names_countries/men_names.html', 'rb') as html:\n",
    "    soup = BeautifulSoup(html)\n",
    "    for s in soup.find_all(\"p\"):\n",
    "        text = s.text\n",
    "        split_text = text.split()\n",
    "        \n",
    "        fin_elements = [''.join(ch for ch in el if ch not in exclude) for el in split_text]\n",
    "        #print(fin_elements)\n",
    "        \n",
    "        man_name.append(fin_elements)"
   ]
  },
  {
   "cell_type": "code",
   "execution_count": 52,
   "metadata": {},
   "outputs": [],
   "source": [
    "filtered_men_names = []\n",
    "for ind in range(6, len(man_name) - 1):\n",
    "    for el in man_name[ind]:\n",
    "        if(el):\n",
    "            filtered_men_names.append(el.lower())"
   ]
  },
  {
   "cell_type": "code",
   "execution_count": 54,
   "metadata": {},
   "outputs": [
    {
     "name": "stderr",
     "output_type": "stream",
     "text": [
      "C:\\Users\\Asus\\Anaconda3\\lib\\site-packages\\bs4\\__init__.py:181: UserWarning: No parser was explicitly specified, so I'm using the best available HTML parser for this system (\"lxml\"). This usually isn't a problem, but if you run this code on another system, or in a different virtual environment, it may use a different parser and behave differently.\n",
      "\n",
      "The code that caused this warning is on line 193 of the file C:\\Users\\Asus\\Anaconda3\\lib\\runpy.py. To get rid of this warning, change code that looks like this:\n",
      "\n",
      " BeautifulSoup(YOUR_MARKUP})\n",
      "\n",
      "to this:\n",
      "\n",
      " BeautifulSoup(YOUR_MARKUP, \"lxml\")\n",
      "\n",
      "  markup_type=markup_type))\n"
     ]
    }
   ],
   "source": [
    "women_names = []\n",
    "with open('.//materials//names_countries/women_names.html', 'rb') as html:\n",
    "    soup = BeautifulSoup(html)\n",
    "    for s in soup.find_all(\"p\"):\n",
    "        text = s.text\n",
    "        split_text = text.split()\n",
    "        \n",
    "        fin_elements = [''.join(ch for ch in el if ch not in exclude) for el in split_text]\n",
    "        #print(fin_elements)\n",
    "        \n",
    "        women_names.append(fin_elements)"
   ]
  },
  {
   "cell_type": "code",
   "execution_count": 58,
   "metadata": {},
   "outputs": [],
   "source": [
    "filtered_women_names = []\n",
    "for ind in range(6, len(women_names) - 1):\n",
    "    for el in women_names[ind]:\n",
    "        if(el):\n",
    "            filtered_women_names.append(el.lower())"
   ]
  },
  {
   "cell_type": "code",
   "execution_count": 60,
   "metadata": {},
   "outputs": [
    {
     "data": {
      "text/plain": [
       "3309"
      ]
     },
     "execution_count": 60,
     "metadata": {},
     "output_type": "execute_result"
    }
   ],
   "source": [
    "final_names_list = filtered_men_names + filtered_women_names\n",
    "len(final_names_list)"
   ]
  },
  {
   "cell_type": "code",
   "execution_count": 61,
   "metadata": {},
   "outputs": [],
   "source": [
    "with open(\".//materials//names.txt\", \"w\", encoding = \"utf-8\") as file:\n",
    "    for word in final_names_list:\n",
    "        file.write(word + '\\n')"
   ]
  }
 ],
 "metadata": {
  "kernelspec": {
   "display_name": "Python 3",
   "language": "python",
   "name": "python3"
  },
  "language_info": {
   "codemirror_mode": {
    "name": "ipython",
    "version": 3
   },
   "file_extension": ".py",
   "mimetype": "text/x-python",
   "name": "python",
   "nbconvert_exporter": "python",
   "pygments_lexer": "ipython3",
   "version": "3.6.4"
  }
 },
 "nbformat": 4,
 "nbformat_minor": 2
}
