{
 "cells": [
  {
   "cell_type": "code",
   "execution_count": 63,
   "metadata": {
    "collapsed": true
   },
   "outputs": [],
   "source": [
    "from bs4 import BeautifulSoup\n",
    "\n",
    "import re\n",
    "\n",
    "from os import listdir\n",
    "from os.path import isfile, join\n",
    "\n",
    "import string\n"
   ]
  },
  {
   "cell_type": "code",
   "execution_count": 24,
   "metadata": {
    "collapsed": true
   },
   "outputs": [],
   "source": [
    "vocab_html_files = [f for f in listdir(\"./Eng_vocab\") if f.endswith(\".html\")]"
   ]
  },
  {
   "cell_type": "code",
   "execution_count": 69,
   "metadata": {},
   "outputs": [
    {
     "data": {
      "text/plain": [
       "['do', 'the', 'cleaning', 'cooking', 'etc']"
      ]
     },
     "execution_count": 69,
     "metadata": {},
     "output_type": "execute_result"
    }
   ],
   "source": [
    "ex = 'do the cleaning/cooking, etc.'\n",
    "exclude = set(string.punctuation)\n",
    "def preprocess (line):\n",
    "    line = line.split()\n",
    "    final_split = []\n",
    "    for ex_el in line:\n",
    "        fin_elements = ex_el.split('/')\n",
    "        fin_elements = [''.join(ch for ch in el if ch not in exclude) for el in fin_elements]\n",
    "        #fin_elements = [el.replace('...', '') for el in fin_elements]\n",
    "        fin_elements = [el.lower() for el in fin_elements]\n",
    "        final_split.extend(fin_elements)\n",
    "    try:\n",
    "        final_split.remove(\"etc.\")\n",
    "    except:\n",
    "        pass\n",
    "    return final_split\n",
    "preprocess(ex)"
   ]
  },
  {
   "cell_type": "code",
   "execution_count": null,
   "metadata": {
    "collapsed": true
   },
   "outputs": [],
   "source": [
    "exclude = set(string.punctuation)\n",
    "s = ''.join(ch for ch in s if ch not in exclude)"
   ]
  },
  {
   "cell_type": "code",
   "execution_count": 66,
   "metadata": {},
   "outputs": [
    {
     "data": {
      "text/plain": [
       "'sdasd'"
      ]
     },
     "execution_count": 66,
     "metadata": {},
     "output_type": "execute_result"
    }
   ],
   "source": [
    "a = 'sdasd,'\n",
    "exclude = set(string.punctuation)\n",
    "s = ''.join(ch for ch in a if ch not in exclude)\n",
    "s"
   ]
  },
  {
   "cell_type": "code",
   "execution_count": 73,
   "metadata": {},
   "outputs": [],
   "source": [
    "vocabulary = []\n",
    "for voc_file in vocab_html_files:\n",
    "    soup = BeautifulSoup(open(join(\"./Eng_vocab\", voc_file)), 'html.parser')\n",
    "    #print(voc_file)\n",
    "    for el in soup.find_all(\"span\",{'class':'base'}):\n",
    "        line = el.text\n",
    "        #print(line)\n",
    "        split_line = preprocess(line)\n",
    "        #print(split_line)\n",
    "        vocabulary.extend(split_line)\n",
    "vocabulary = set(vocabulary)"
   ]
  },
  {
   "cell_type": "code",
   "execution_count": 72,
   "metadata": {
    "collapsed": true
   },
   "outputs": [],
   "source": [
    "with open(\"A1_vocab_processed.txt\", \"w\") as file:\n",
    "    for word in vocabulary:\n",
    "        file.write(word + '\\n')"
   ]
  }
 ],
 "metadata": {
  "kernelspec": {
   "display_name": "Python 3",
   "language": "python",
   "name": "python3"
  },
  "language_info": {
   "codemirror_mode": {
    "name": "ipython",
    "version": 3
   },
   "file_extension": ".py",
   "mimetype": "text/x-python",
   "name": "python",
   "nbconvert_exporter": "python",
   "pygments_lexer": "ipython3",
   "version": "3.6.2"
  }
 },
 "nbformat": 4,
 "nbformat_minor": 2
}
