{
 "cells": [
  {
   "cell_type": "code",
   "execution_count": 3,
   "metadata": {},
   "outputs": [],
   "source": [
    "from bs4 import BeautifulSoup\n",
    "\n",
    "import re"
   ]
  },
  {
   "cell_type": "code",
   "execution_count": 4,
   "metadata": {},
   "outputs": [
    {
     "name": "stderr",
     "output_type": "stream",
     "text": [
      "/Users/lilyakhoang/anaconda3/lib/python3.7/site-packages/bs4/__init__.py:273: UserWarning: \"b'html_ex.htm'\" looks like a filename, not markup. You should probably open this file and pass the filehandle into Beautiful Soup.\n",
      "  ' Beautiful Soup.' % markup)\n"
     ]
    }
   ],
   "source": [
    "soup = BeautifulSoup(\"html_ex.htm\", 'html.parser')"
   ]
  },
  {
   "cell_type": "code",
   "execution_count": null,
   "metadata": {},
   "outputs": [],
   "source": []
  },
  {
   "cell_type": "code",
   "execution_count": null,
   "metadata": {},
   "outputs": [],
   "source": []
  },
  {
   "cell_type": "code",
   "execution_count": null,
   "metadata": {},
   "outputs": [],
   "source": []
  },
  {
   "cell_type": "code",
   "execution_count": null,
   "metadata": {},
   "outputs": [],
   "source": [
    "stop_v = 0\n",
    "for el in tree.iter():\n",
    "    print(el.tag)\n",
    "    print(el.attrib)\n",
    "    if(el.tag == \"fileDesc\" ):\n",
    "        print(\"FOUND\")\n",
    "        for node in el.getiterator():\n",
    "            print (node.tag, node.attrib, node.text)\n",
    "            if(node.tag == \"name\"):\n",
    "                print('THE NAME IS', node.text)\n",
    "            #print(node.get(\"name\"))\n",
    "            print(\"****\")\n",
    "    print(\"================================================================\")\n",
    "    stop_v += 1\n",
    "    if (stop_v > 10): break"
   ]
  }
 ],
 "metadata": {
  "kernelspec": {
   "display_name": "Python 3",
   "language": "python",
   "name": "python3"
  },
  "language_info": {
   "codemirror_mode": {
    "name": "ipython",
    "version": 3
   },
   "file_extension": ".py",
   "mimetype": "text/x-python",
   "name": "python",
   "nbconvert_exporter": "python",
   "pygments_lexer": "ipython3",
   "version": "3.7.0"
  }
 },
 "nbformat": 4,
 "nbformat_minor": 2
}
