{
 "cells": [
  {
   "cell_type": "code",
   "execution_count": 14,
   "metadata": {},
   "outputs": [],
   "source": [
    "from vocabulary import cefr_dictionary"
   ]
  },
  {
   "cell_type": "code",
   "execution_count": 10,
   "metadata": {},
   "outputs": [],
   "source": [
    "import pandas as pd\n",
    "from nltk.stem import WordNetLemmatizer "
   ]
  },
  {
   "cell_type": "code",
   "execution_count": 2,
   "metadata": {},
   "outputs": [],
   "source": [
    "df = pd.read_csv(\"2019_0515_AudioStories.csv\")"
   ]
  },
  {
   "cell_type": "code",
   "execution_count": 16,
   "metadata": {},
   "outputs": [
    {
     "name": "stdout",
     "output_type": "stream",
     "text": [
      "<class 'pandas.core.frame.DataFrame'>\n",
      "RangeIndex: 1629 entries, 0 to 1628\n",
      "Data columns (total 3 columns):\n",
      "ref_id        1629 non-null int64\n",
      "setting_id    1629 non-null int64\n",
      "string_agg    1629 non-null object\n",
      "dtypes: int64(2), object(1)\n",
      "memory usage: 38.3+ KB\n"
     ]
    }
   ],
   "source": [
    "df.info()"
   ]
  },
  {
   "cell_type": "code",
   "execution_count": 4,
   "metadata": {},
   "outputs": [
    {
     "data": {
      "text/html": [
       "<div>\n",
       "<style scoped>\n",
       "    .dataframe tbody tr th:only-of-type {\n",
       "        vertical-align: middle;\n",
       "    }\n",
       "\n",
       "    .dataframe tbody tr th {\n",
       "        vertical-align: top;\n",
       "    }\n",
       "\n",
       "    .dataframe thead th {\n",
       "        text-align: right;\n",
       "    }\n",
       "</style>\n",
       "<table border=\"1\" class=\"dataframe\">\n",
       "  <thead>\n",
       "    <tr style=\"text-align: right;\">\n",
       "      <th></th>\n",
       "      <th>ref_id</th>\n",
       "      <th>setting_id</th>\n",
       "      <th>string_agg</th>\n",
       "    </tr>\n",
       "  </thead>\n",
       "  <tbody>\n",
       "    <tr>\n",
       "      <th>0</th>\n",
       "      <td>13001</td>\n",
       "      <td>1</td>\n",
       "      <td>suddenly_2# _6 | they_2# _6 | were_2# _6 | bot...</td>\n",
       "    </tr>\n",
       "    <tr>\n",
       "      <th>1</th>\n",
       "      <td>13001</td>\n",
       "      <td>2</td>\n",
       "      <td>make_2# _6 | other_2# _6 | strange_2# _6 | noi...</td>\n",
       "    </tr>\n",
       "    <tr>\n",
       "      <th>2</th>\n",
       "      <td>13001</td>\n",
       "      <td>3</td>\n",
       "      <td>great_2# _6 | law_2# _6 | of_2# _6 | human_2# ...</td>\n",
       "    </tr>\n",
       "    <tr>\n",
       "      <th>3</th>\n",
       "      <td>13001</td>\n",
       "      <td>4</td>\n",
       "      <td>she_2# _6 | loved_2# _6 | him_2#._1# _6 | He_2...</td>\n",
       "    </tr>\n",
       "    <tr>\n",
       "      <th>4</th>\n",
       "      <td>13001</td>\n",
       "      <td>5</td>\n",
       "      <td>of_2# _6 | a_4# _6 | new_2# _6 | girl_2#._1# _...</td>\n",
       "    </tr>\n",
       "  </tbody>\n",
       "</table>\n",
       "</div>"
      ],
      "text/plain": [
       "   ref_id  setting_id                                         string_agg\n",
       "0   13001           1  suddenly_2# _6 | they_2# _6 | were_2# _6 | bot...\n",
       "1   13001           2  make_2# _6 | other_2# _6 | strange_2# _6 | noi...\n",
       "2   13001           3  great_2# _6 | law_2# _6 | of_2# _6 | human_2# ...\n",
       "3   13001           4  she_2# _6 | loved_2# _6 | him_2#._1# _6 | He_2...\n",
       "4   13001           5  of_2# _6 | a_4# _6 | new_2# _6 | girl_2#._1# _..."
      ]
     },
     "execution_count": 4,
     "metadata": {},
     "output_type": "execute_result"
    }
   ],
   "source": [
    "df.head()"
   ]
  },
  {
   "cell_type": "code",
   "execution_count": 23,
   "metadata": {},
   "outputs": [
    {
     "data": {
      "text/plain": [
       "'gone'"
      ]
     },
     "execution_count": 23,
     "metadata": {},
     "output_type": "execute_result"
    }
   ],
   "source": [
    "lemmatizer = WordNetLemmatizer() \n",
    "lemmatizer.lemmatize(\"gone\")"
   ]
  },
  {
   "cell_type": "code",
   "execution_count": 28,
   "metadata": {},
   "outputs": [
    {
     "name": "stdout",
     "output_type": "stream",
     "text": [
      "pull\n",
      "other's\n",
      "other's\n"
     ]
    },
    {
     "data": {
      "text/plain": [
       "(True, [\"other's\", \"other's\"])"
      ]
     },
     "execution_count": 28,
     "metadata": {},
     "output_type": "execute_result"
    }
   ],
   "source": [
    "def check_content(content_line):\n",
    "    incorrect_word_found = False\n",
    "    incorrect_words = []\n",
    "    words = content_line.split(\"|\")\n",
    "    level_list = ['A1','A2','B1','B2','C']\n",
    "    for word in words:\n",
    "        \n",
    "        word_i = word.split(\"_\")[0].lower()\n",
    "        word_i = word_i.strip()\n",
    "        #print(word_i)\n",
    "        word_found = False\n",
    "        for level in level_list:\n",
    "            if(word_i in cefr_dictionary[level]):\n",
    "                word_found = True\n",
    "                break\n",
    "        if not word_found:\n",
    "            lemma = lemmatizer.lemmatize(word_i)\n",
    "            if lemma == word_i:\n",
    "                lemma = lemmatizer.lemmatize(word_i, 'v')\n",
    "            elif(lemma.endswith(\"'s\")):\n",
    "                print(\"afsdsdf\")\n",
    "                lemma = lemma [:2]\n",
    "            print(lemma)\n",
    "            for level in level_list:\n",
    "                if(lemma in cefr_dictionary[level]):\n",
    "                    word_found = True\n",
    "                    break\n",
    "        if not word_found:\n",
    "            incorrect_words.append(word_i)\n",
    "            incorrect_word_found = True\n",
    "    return incorrect_word_found, incorrect_words\n",
    "                \n",
    "        \n",
    "check_content(df.iloc[0]['string_agg'])"
   ]
  }
 ],
 "metadata": {
  "kernelspec": {
   "display_name": "Python 3",
   "language": "python",
   "name": "python3"
  },
  "language_info": {
   "codemirror_mode": {
    "name": "ipython",
    "version": 3
   },
   "file_extension": ".py",
   "mimetype": "text/x-python",
   "name": "python",
   "nbconvert_exporter": "python",
   "pygments_lexer": "ipython3",
   "version": "3.6.4"
  }
 },
 "nbformat": 4,
 "nbformat_minor": 2
}
