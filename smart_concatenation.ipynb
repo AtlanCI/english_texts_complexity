{
 "cells": [
  {
   "cell_type": "code",
   "execution_count": 17,
   "metadata": {},
   "outputs": [],
   "source": [
    "import json\n",
    "import os\n",
    "from collections import OrderedDict\n",
    "import statistics"
   ]
  },
  {
   "cell_type": "code",
   "execution_count": 5,
   "metadata": {},
   "outputs": [],
   "source": [
    "words_json_list = os.listdir(\"./check_results/\")\n",
    "concat_list = []\n",
    "for js in words_json_list:\n",
    "    if js.endswith(\".json\"):\n",
    "        json_path = os.path.join(\"./check_results/\", js)\n",
    "        with open (json_path, \"r\") as f:\n",
    "            data = json.load(f)\n",
    "            concat_list.extend(data)"
   ]
  },
  {
   "cell_type": "code",
   "execution_count": 26,
   "metadata": {},
   "outputs": [],
   "source": [
    "words_json_list_ordered = os.listdir(\"./check_results_ordered/\")\n",
    "concat_list_ordered = []\n",
    "for js in words_json_list_ordered:\n",
    "    if js.endswith(\".json\"):\n",
    "        json_path = os.path.join(\"./check_results_ordered/\", js)\n",
    "        with open (json_path, \"r\") as f:\n",
    "            data = json.load(f)\n",
    "            concat_list_ordered.extend(data)"
   ]
  },
  {
   "cell_type": "code",
   "execution_count": 31,
   "metadata": {},
   "outputs": [],
   "source": [
    "words_json_list_add = os.listdir(\"./additional_save/\")\n",
    "concat_list_add = []\n",
    "for js in words_json_list_add:\n",
    "    if js.endswith(\".json\"):\n",
    "        json_path = os.path.join(\"./additional_save/\", js)\n",
    "        with open (json_path, \"r\") as f:\n",
    "            data = json.load(f)\n",
    "            concat_list_add.extend(data)"
   ]
  },
  {
   "cell_type": "code",
   "execution_count": 30,
   "metadata": {},
   "outputs": [
    {
     "data": {
      "text/plain": [
       "{'level': 'Upper-Intermediate', 'jungle_id': 280287}"
      ]
     },
     "execution_count": 30,
     "metadata": {},
     "output_type": "execute_result"
    }
   ],
   "source": [
    "concat_list_ordered[0]"
   ]
  },
  {
   "cell_type": "code",
   "execution_count": 6,
   "metadata": {},
   "outputs": [
    {
     "data": {
      "text/plain": [
       "{'jungle_id': 12375, 'level': 'Intermediate'}"
      ]
     },
     "execution_count": 6,
     "metadata": {},
     "output_type": "execute_result"
    }
   ],
   "source": [
    "concat_list[0]"
   ]
  },
  {
   "cell_type": "code",
   "execution_count": 32,
   "metadata": {},
   "outputs": [],
   "source": [
    "concat_list_overall = []\n",
    "concat_list_overall.extend(concat_list)\n",
    "concat_list_overall.extend(concat_list_ordered)\n",
    "concat_list_overall.extend(concat_list_add)"
   ]
  },
  {
   "cell_type": "code",
   "execution_count": 37,
   "metadata": {},
   "outputs": [
    {
     "data": {
      "text/plain": [
       "(61132, 164606, 159708)"
      ]
     },
     "execution_count": 37,
     "metadata": {},
     "output_type": "execute_result"
    }
   ],
   "source": [
    "len(concat_list),len(concat_list_ordered),len(concat_list_add)"
   ]
  },
  {
   "cell_type": "code",
   "execution_count": 33,
   "metadata": {},
   "outputs": [
    {
     "data": {
      "text/plain": [
       "{'jungle_id': 12375, 'level': 'Intermediate'}"
      ]
     },
     "execution_count": 33,
     "metadata": {},
     "output_type": "execute_result"
    }
   ],
   "source": [
    "concat_list_overall[0]"
   ]
  },
  {
   "cell_type": "code",
   "execution_count": 38,
   "metadata": {},
   "outputs": [],
   "source": [
    "level2digit =OrderedDict([(\"Beginner\",0),(\"Elementary/Pre-Intermediate\",1),\n",
    "                          (\"Intermediate\",2),(\"Upper-Intermediate\",3),(\"Advanced\",4)])\n",
    "digit2level=OrderedDict([(0,\"Beginner\"),(1,\"Elementary/Pre-Intermediate\"),\n",
    "                          (2,\"Intermediate\"),(3,\"Upper-Intermediate\"),(4,\"Advanced\")])\n",
    "dct = {}\n",
    "for element in concat_list_overall:\n",
    "    jid = element['jungle_id']\n",
    "    if element['level'] in level2digit:\n",
    "        int_level = level2digit[element['level']]\n",
    "        if jid in dct:\n",
    "            dct[jid].append(int_level)\n",
    "        else:\n",
    "            dct[jid] = []\n",
    "            dct[jid].append(int_level) \n",
    "    else:\n",
    "        if jid in dct:\n",
    "            dct[jid].append(element['level'])\n",
    "        else:\n",
    "            dct[jid] = []\n",
    "            dct[jid].append(element['level'])\n",
    "final_dict = {}\n",
    "failed_calc = {}\n",
    "for text_ind in dct.keys():\n",
    "    if \"Text seems to be empty\" in dct[text_ind] or \"Level calculation failed\" in dct[text_ind]:\n",
    "        failed_calc[text_ind] = dct[text_ind]\n",
    "    else:\n",
    "        level_list = dct[text_ind]\n",
    "        level_mean = int(round(statistics.mean(level_list),0))\n",
    "        #print(text_ind, level_mean)\n",
    "        level = digit2level[level_mean]\n",
    "        final_dict[text_ind] = level"
   ]
  },
  {
   "cell_type": "code",
   "execution_count": 39,
   "metadata": {},
   "outputs": [
    {
     "data": {
      "text/plain": [
       "323063"
      ]
     },
     "execution_count": 39,
     "metadata": {},
     "output_type": "execute_result"
    }
   ],
   "source": [
    "len(final_dict)"
   ]
  },
  {
   "cell_type": "code",
   "execution_count": 45,
   "metadata": {},
   "outputs": [],
   "source": [
    "with open(\"TEXTS_LEVELS.json\",\"w\") as f:\n",
    "    json.dump(final_dict, f, indent = 1)"
   ]
  },
  {
   "cell_type": "code",
   "execution_count": 42,
   "metadata": {},
   "outputs": [
    {
     "data": {
      "text/plain": [
       "1218"
      ]
     },
     "execution_count": 42,
     "metadata": {},
     "output_type": "execute_result"
    }
   ],
   "source": [
    "len(failed_calc)"
   ]
  }
 ],
 "metadata": {
  "kernelspec": {
   "display_name": "Python 3",
   "language": "python",
   "name": "python3"
  },
  "language_info": {
   "codemirror_mode": {
    "name": "ipython",
    "version": 3
   },
   "file_extension": ".py",
   "mimetype": "text/x-python",
   "name": "python",
   "nbconvert_exporter": "python",
   "pygments_lexer": "ipython3",
   "version": "3.7.3"
  }
 },
 "nbformat": 4,
 "nbformat_minor": 2
}
