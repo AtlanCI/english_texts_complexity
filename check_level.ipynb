{
 "cells": [
  {
   "cell_type": "code",
   "execution_count": 1,
   "metadata": {},
   "outputs": [],
   "source": [
    "import matplotlib.pyplot as plt\n",
    "from sklearn.utils.multiclass import unique_labels\n",
    "from sklearn.metrics import confusion_matrix\n",
    "import progressbar\n",
    "import pandas as pd\n",
    "import time \n",
    "import json\n",
    "import numpy as np"
   ]
  },
  {
   "cell_type": "code",
   "execution_count": 2,
   "metadata": {},
   "outputs": [],
   "source": [
    "from calculate_level_new import get_level_from_raw_text"
   ]
  },
  {
   "cell_type": "code",
   "execution_count": 3,
   "metadata": {},
   "outputs": [],
   "source": [
    "def lower(text):\n",
    "    lower_text = ''\n",
    "    for word in text.split():\n",
    "        w = word.lower()\n",
    "        lower_text += w + ' '\n",
    "    lower_text = lower_text.strip()\n",
    "    return lower_text"
   ]
  },
  {
   "cell_type": "code",
   "execution_count": 4,
   "metadata": {},
   "outputs": [
    {
     "data": {
      "text/html": [
       "<div>\n",
       "<style scoped>\n",
       "    .dataframe tbody tr th:only-of-type {\n",
       "        vertical-align: middle;\n",
       "    }\n",
       "\n",
       "    .dataframe tbody tr th {\n",
       "        vertical-align: top;\n",
       "    }\n",
       "\n",
       "    .dataframe thead th {\n",
       "        text-align: right;\n",
       "    }\n",
       "</style>\n",
       "<table border=\"1\" class=\"dataframe\">\n",
       "  <thead>\n",
       "    <tr style=\"text-align: right;\">\n",
       "      <th></th>\n",
       "      <th>text</th>\n",
       "      <th>set_name</th>\n",
       "    </tr>\n",
       "  </thead>\n",
       "  <tbody>\n",
       "    <tr>\n",
       "      <th>0</th>\n",
       "      <td>Hello! My name is Sonya. It’s early morning. W...</td>\n",
       "      <td>beginner_set</td>\n",
       "    </tr>\n",
       "    <tr>\n",
       "      <th>1</th>\n",
       "      <td>This is my friend Jimmy. He is from India. Jim...</td>\n",
       "      <td>beginner_set</td>\n",
       "    </tr>\n",
       "    <tr>\n",
       "      <th>2</th>\n",
       "      <td>My name is Sonya. I am 20 and I come from Moro...</td>\n",
       "      <td>beginner_set</td>\n",
       "    </tr>\n",
       "    <tr>\n",
       "      <th>3</th>\n",
       "      <td>My mom is a doctor. I know many useful things ...</td>\n",
       "      <td>beginner_set</td>\n",
       "    </tr>\n",
       "    <tr>\n",
       "      <th>4</th>\n",
       "      <td>The weather can be very different. Toby and Ro...</td>\n",
       "      <td>beginner_set</td>\n",
       "    </tr>\n",
       "  </tbody>\n",
       "</table>\n",
       "</div>"
      ],
      "text/plain": [
       "                                                text      set_name\n",
       "0  Hello! My name is Sonya. It’s early morning. W...  beginner_set\n",
       "1  This is my friend Jimmy. He is from India. Jim...  beginner_set\n",
       "2  My name is Sonya. I am 20 and I come from Moro...  beginner_set\n",
       "3  My mom is a doctor. I know many useful things ...  beginner_set\n",
       "4  The weather can be very different. Toby and Ro...  beginner_set"
      ]
     },
     "execution_count": 4,
     "metadata": {},
     "output_type": "execute_result"
    }
   ],
   "source": [
    "with open('./texts/texts_lleo_update.json') as json_file:  \n",
    "    text = []\n",
    "    set_name = []\n",
    "    data = json.load(json_file)\n",
    "    for data_i in data:\n",
    "        text.append(data_i['text'])\n",
    "        set_name.append(data_i['name'])\n",
    "text_level = pd.DataFrame(\n",
    "    {'text': text,\n",
    "     'set_name': set_name\n",
    "    })\n",
    "text_level['set_name'] = text_level['set_name'].apply(lower)\n",
    "text_level.head()"
   ]
  },
  {
   "cell_type": "code",
   "execution_count": 5,
   "metadata": {},
   "outputs": [
    {
     "data": {
      "text/html": [
       "<div>\n",
       "<style scoped>\n",
       "    .dataframe tbody tr th:only-of-type {\n",
       "        vertical-align: middle;\n",
       "    }\n",
       "\n",
       "    .dataframe tbody tr th {\n",
       "        vertical-align: top;\n",
       "    }\n",
       "\n",
       "    .dataframe thead th {\n",
       "        text-align: right;\n",
       "    }\n",
       "</style>\n",
       "<table border=\"1\" class=\"dataframe\">\n",
       "  <thead>\n",
       "    <tr style=\"text-align: right;\">\n",
       "      <th></th>\n",
       "      <th>set</th>\n",
       "      <th>level</th>\n",
       "    </tr>\n",
       "  </thead>\n",
       "  <tbody>\n",
       "    <tr>\n",
       "      <th>0</th>\n",
       "      <td>beginner_set</td>\n",
       "      <td>Beginner</td>\n",
       "    </tr>\n",
       "    <tr>\n",
       "      <th>1</th>\n",
       "      <td>everyday life stories 1</td>\n",
       "      <td>Elementary/Pre-Intermediate</td>\n",
       "    </tr>\n",
       "    <tr>\n",
       "      <th>2</th>\n",
       "      <td>pocahontas</td>\n",
       "      <td>Elementary/Pre-Intermediate</td>\n",
       "    </tr>\n",
       "    <tr>\n",
       "      <th>3</th>\n",
       "      <td>robin hood</td>\n",
       "      <td>Elementary/Pre-Intermediate</td>\n",
       "    </tr>\n",
       "    <tr>\n",
       "      <th>4</th>\n",
       "      <td>the call of the wild</td>\n",
       "      <td>Elementary/Pre-Intermediate</td>\n",
       "    </tr>\n",
       "  </tbody>\n",
       "</table>\n",
       "</div>"
      ],
      "text/plain": [
       "                       set                        level\n",
       "0             beginner_set                     Beginner\n",
       "1  everyday life stories 1  Elementary/Pre-Intermediate\n",
       "2               pocahontas  Elementary/Pre-Intermediate\n",
       "3               robin hood  Elementary/Pre-Intermediate\n",
       "4     the call of the wild  Elementary/Pre-Intermediate"
      ]
     },
     "execution_count": 5,
     "metadata": {},
     "output_type": "execute_result"
    }
   ],
   "source": [
    "set_level_df = pd.read_csv(\"./texts/set_level_update.csv\", sep = \",\")\n",
    "set_level_df['set'] = set_level_df['set'].apply(lower)\n",
    "set_level_df.head()"
   ]
  },
  {
   "cell_type": "code",
   "execution_count": 6,
   "metadata": {},
   "outputs": [
    {
     "data": {
      "text/plain": [
       "{'Advanced',\n",
       " 'Beginner',\n",
       " 'Elementary/Pre-Intermediate',\n",
       " 'Intermediate',\n",
       " 'Upper-Intermediate'}"
      ]
     },
     "execution_count": 6,
     "metadata": {},
     "output_type": "execute_result"
    }
   ],
   "source": [
    "set(set_level_df['level'])"
   ]
  },
  {
   "cell_type": "code",
   "execution_count": null,
   "metadata": {},
   "outputs": [],
   "source": []
  },
  {
   "cell_type": "code",
   "execution_count": 7,
   "metadata": {},
   "outputs": [
    {
     "name": "stdout",
     "output_type": "stream",
     "text": [
      "My name is Sonya. I am 20 and I come from Morocco. It is in the North of Africa. I am a student. I study History at the University. I have got many good friends here. They come from different parts of the world. Yuko is from Japan. She speaks Japanese. Laura comes from Italy. She speaks Italian. Toby and Roby come from Canada. They speak English and French. Jimmy is from India. He speaks Hindi and English. When we have long holidays, I miss them very much. I look at the map and say: “Good morning, Yuko and Jimmy! Good afternoon, Laura! Good evening, Toby and Roby!”\n"
     ]
    },
    {
     "data": {
      "text/plain": [
       "'Beginner'"
      ]
     },
     "execution_count": 7,
     "metadata": {},
     "output_type": "execute_result"
    }
   ],
   "source": [
    "text = text_level.iloc[2]['text']\n",
    "print(text)\n",
    "get_level_from_raw_text(text)"
   ]
  },
  {
   "cell_type": "code",
   "execution_count": 8,
   "metadata": {},
   "outputs": [],
   "source": [
    "name_dict = pd.Series(set_level_df.level.values,index=set_level_df.set).to_dict()\n",
    "level_interpret = {'Beginner':0, 'Elementary/Pre-Intermediate':1, 'Intermediate':2, 'Upper-Intermediate':3, 'Advanced':4}"
   ]
  },
  {
   "cell_type": "code",
   "execution_count": 9,
   "metadata": {},
   "outputs": [
    {
     "data": {
      "text/html": [
       "<div>\n",
       "<style scoped>\n",
       "    .dataframe tbody tr th:only-of-type {\n",
       "        vertical-align: middle;\n",
       "    }\n",
       "\n",
       "    .dataframe tbody tr th {\n",
       "        vertical-align: top;\n",
       "    }\n",
       "\n",
       "    .dataframe thead th {\n",
       "        text-align: right;\n",
       "    }\n",
       "</style>\n",
       "<table border=\"1\" class=\"dataframe\">\n",
       "  <thead>\n",
       "    <tr style=\"text-align: right;\">\n",
       "      <th></th>\n",
       "      <th>text</th>\n",
       "      <th>set_name</th>\n",
       "      <th>level</th>\n",
       "    </tr>\n",
       "  </thead>\n",
       "  <tbody>\n",
       "    <tr>\n",
       "      <th>0</th>\n",
       "      <td>Hello! My name is Sonya. It’s early morning. W...</td>\n",
       "      <td>beginner_set</td>\n",
       "      <td>0.0</td>\n",
       "    </tr>\n",
       "    <tr>\n",
       "      <th>1</th>\n",
       "      <td>This is my friend Jimmy. He is from India. Jim...</td>\n",
       "      <td>beginner_set</td>\n",
       "      <td>0.0</td>\n",
       "    </tr>\n",
       "    <tr>\n",
       "      <th>2</th>\n",
       "      <td>My name is Sonya. I am 20 and I come from Moro...</td>\n",
       "      <td>beginner_set</td>\n",
       "      <td>0.0</td>\n",
       "    </tr>\n",
       "    <tr>\n",
       "      <th>3</th>\n",
       "      <td>My mom is a doctor. I know many useful things ...</td>\n",
       "      <td>beginner_set</td>\n",
       "      <td>0.0</td>\n",
       "    </tr>\n",
       "    <tr>\n",
       "      <th>4</th>\n",
       "      <td>The weather can be very different. Toby and Ro...</td>\n",
       "      <td>beginner_set</td>\n",
       "      <td>0.0</td>\n",
       "    </tr>\n",
       "  </tbody>\n",
       "</table>\n",
       "</div>"
      ],
      "text/plain": [
       "                                                text      set_name  level\n",
       "0  Hello! My name is Sonya. It’s early morning. W...  beginner_set    0.0\n",
       "1  This is my friend Jimmy. He is from India. Jim...  beginner_set    0.0\n",
       "2  My name is Sonya. I am 20 and I come from Moro...  beginner_set    0.0\n",
       "3  My mom is a doctor. I know many useful things ...  beginner_set    0.0\n",
       "4  The weather can be very different. Toby and Ro...  beginner_set    0.0"
      ]
     },
     "execution_count": 9,
     "metadata": {},
     "output_type": "execute_result"
    }
   ],
   "source": [
    "def assign_level(name):\n",
    "    if name in name_dict:\n",
    "        return level_interpret[name_dict[name]]\n",
    "    else:\n",
    "        return None\n",
    "\n",
    "text_level['level'] = text_level['set_name'].apply(assign_level)\n",
    "text_level_no_nan = text_level.dropna()\n",
    "text_level_no_nan.head()"
   ]
  },
  {
   "cell_type": "code",
   "execution_count": 10,
   "metadata": {},
   "outputs": [
    {
     "name": "stderr",
     "output_type": "stream",
     "text": [
      "[========================================================================] 100%\r"
     ]
    }
   ],
   "source": [
    "text_levels = []\n",
    "text_ind = 0\n",
    "for text in text_level_no_nan['text']:\n",
    "    bar = progressbar.ProgressBar(maxval=len(text_level_no_nan['text']),\n",
    "                                  widgets=[progressbar.Bar('=', '[', ']'), ' ', progressbar.Percentage()])\n",
    "    bar.start()\n",
    "    \n",
    "    txt_ft = get_level_from_raw_text(text)\n",
    "    text_levels.append(txt_ft)\n",
    "    \n",
    "    text_ind += 1\n",
    "    bar.update(text_ind)\n",
    "    time.sleep(0.1)"
   ]
  },
  {
   "cell_type": "code",
   "execution_count": 11,
   "metadata": {},
   "outputs": [],
   "source": [
    "#level_interpret_cefr = {'Beginner':0, 'Elementary/Pre-intermediate':1, 'Intermediate':2, 'Upper-Intermediate':3, 'Advanced':4}\n",
    "def assign_level_cefr(level_name):\n",
    "    if level_name in level_interpret:\n",
    "        return level_interpret[level_name]\n",
    "    else:\n",
    "        print(\"wtf??\")"
   ]
  },
  {
   "cell_type": "code",
   "execution_count": 12,
   "metadata": {},
   "outputs": [
    {
     "name": "stderr",
     "output_type": "stream",
     "text": [
      "/usr/local/lib/python3.7/site-packages/ipykernel_launcher.py:1: SettingWithCopyWarning: \n",
      "A value is trying to be set on a copy of a slice from a DataFrame.\n",
      "Try using .loc[row_indexer,col_indexer] = value instead\n",
      "\n",
      "See the caveats in the documentation: http://pandas.pydata.org/pandas-docs/stable/indexing.html#indexing-view-versus-copy\n",
      "  \"\"\"Entry point for launching an IPython kernel.\n",
      "/usr/local/lib/python3.7/site-packages/ipykernel_launcher.py:2: SettingWithCopyWarning: \n",
      "A value is trying to be set on a copy of a slice from a DataFrame.\n",
      "Try using .loc[row_indexer,col_indexer] = value instead\n",
      "\n",
      "See the caveats in the documentation: http://pandas.pydata.org/pandas-docs/stable/indexing.html#indexing-view-versus-copy\n",
      "  \n",
      "/usr/local/lib/python3.7/site-packages/ipykernel_launcher.py:3: SettingWithCopyWarning: \n",
      "A value is trying to be set on a copy of a slice from a DataFrame.\n",
      "Try using .loc[row_indexer,col_indexer] = value instead\n",
      "\n",
      "See the caveats in the documentation: http://pandas.pydata.org/pandas-docs/stable/indexing.html#indexing-view-versus-copy\n",
      "  This is separate from the ipykernel package so we can avoid doing imports until\n"
     ]
    },
    {
     "data": {
      "text/html": [
       "<div>\n",
       "<style scoped>\n",
       "    .dataframe tbody tr th:only-of-type {\n",
       "        vertical-align: middle;\n",
       "    }\n",
       "\n",
       "    .dataframe tbody tr th {\n",
       "        vertical-align: top;\n",
       "    }\n",
       "\n",
       "    .dataframe thead th {\n",
       "        text-align: right;\n",
       "    }\n",
       "</style>\n",
       "<table border=\"1\" class=\"dataframe\">\n",
       "  <thead>\n",
       "    <tr style=\"text-align: right;\">\n",
       "      <th></th>\n",
       "      <th>text</th>\n",
       "      <th>set_name</th>\n",
       "      <th>level</th>\n",
       "      <th>script_calc_level</th>\n",
       "      <th>script_calc_level_int</th>\n",
       "    </tr>\n",
       "  </thead>\n",
       "  <tbody>\n",
       "    <tr>\n",
       "      <th>0</th>\n",
       "      <td>Hello! My name is Sonya. It’s early morning. W...</td>\n",
       "      <td>beginner_set</td>\n",
       "      <td>0</td>\n",
       "      <td>Beginner</td>\n",
       "      <td>0</td>\n",
       "    </tr>\n",
       "    <tr>\n",
       "      <th>1</th>\n",
       "      <td>This is my friend Jimmy. He is from India. Jim...</td>\n",
       "      <td>beginner_set</td>\n",
       "      <td>0</td>\n",
       "      <td>Beginner</td>\n",
       "      <td>0</td>\n",
       "    </tr>\n",
       "    <tr>\n",
       "      <th>2</th>\n",
       "      <td>My name is Sonya. I am 20 and I come from Moro...</td>\n",
       "      <td>beginner_set</td>\n",
       "      <td>0</td>\n",
       "      <td>Beginner</td>\n",
       "      <td>0</td>\n",
       "    </tr>\n",
       "    <tr>\n",
       "      <th>3</th>\n",
       "      <td>My mom is a doctor. I know many useful things ...</td>\n",
       "      <td>beginner_set</td>\n",
       "      <td>0</td>\n",
       "      <td>Beginner</td>\n",
       "      <td>0</td>\n",
       "    </tr>\n",
       "    <tr>\n",
       "      <th>4</th>\n",
       "      <td>The weather can be very different. Toby and Ro...</td>\n",
       "      <td>beginner_set</td>\n",
       "      <td>0</td>\n",
       "      <td>Elementary/Pre-Intermediate</td>\n",
       "      <td>1</td>\n",
       "    </tr>\n",
       "  </tbody>\n",
       "</table>\n",
       "</div>"
      ],
      "text/plain": [
       "                                                text      set_name  level  \\\n",
       "0  Hello! My name is Sonya. It’s early morning. W...  beginner_set      0   \n",
       "1  This is my friend Jimmy. He is from India. Jim...  beginner_set      0   \n",
       "2  My name is Sonya. I am 20 and I come from Moro...  beginner_set      0   \n",
       "3  My mom is a doctor. I know many useful things ...  beginner_set      0   \n",
       "4  The weather can be very different. Toby and Ro...  beginner_set      0   \n",
       "\n",
       "             script_calc_level  script_calc_level_int  \n",
       "0                     Beginner                      0  \n",
       "1                     Beginner                      0  \n",
       "2                     Beginner                      0  \n",
       "3                     Beginner                      0  \n",
       "4  Elementary/Pre-Intermediate                      1  "
      ]
     },
     "execution_count": 12,
     "metadata": {},
     "output_type": "execute_result"
    }
   ],
   "source": [
    "text_level_no_nan['script_calc_level'] = text_levels\n",
    "text_level_no_nan['script_calc_level_int'] = text_level_no_nan['script_calc_level'].apply(assign_level_cefr)\n",
    "text_level_no_nan['level'] = text_level_no_nan['level'].astype('int64')\n",
    "\n",
    "text_level_no_nan.head()"
   ]
  },
  {
   "cell_type": "code",
   "execution_count": 13,
   "metadata": {},
   "outputs": [],
   "source": [
    "text_level_no_nan.to_csv(\"text_level_cal_update.csv\")"
   ]
  },
  {
   "cell_type": "code",
   "execution_count": 14,
   "metadata": {},
   "outputs": [
    {
     "name": "stdout",
     "output_type": "stream",
     "text": [
      "Confusion matrix, without normalization\n",
      "[[  6   4   0   0   0]\n",
      " [ 52 239 112 113  70]\n",
      " [ 63 284 213 185 135]\n",
      " [ 31 246 206 196 156]\n",
      " [  5 103 442 438 443]]\n",
      "Normalized confusion matrix\n",
      "[[0.6  0.4  0.   0.   0.  ]\n",
      " [0.09 0.41 0.19 0.19 0.12]\n",
      " [0.07 0.32 0.24 0.21 0.15]\n",
      " [0.04 0.29 0.25 0.23 0.19]\n",
      " [0.   0.07 0.31 0.31 0.31]]\n"
     ]
    },
    {
     "data": {
      "image/png": "[encoded data removed]",
      "text/plain": [
       "<Figure size 432x288 with 2 Axes>"
      ]
     },
     "metadata": {
      "needs_background": "light"
     },
     "output_type": "display_data"
    },
    {
     "data": {
      "image/png": "[encoded data removed]",
      "text/plain": [
       "<Figure size 432x288 with 2 Axes>"
      ]
     },
     "metadata": {
      "needs_background": "light"
     },
     "output_type": "display_data"
    }
   ],
   "source": [
    "def plot_confusion_matrix(y_true, y_pred, classes,\n",
    "                          normalize=False,\n",
    "                          title=None,\n",
    "                          cmap=plt.cm.Blues):\n",
    "    \"\"\"\n",
    "    This function prints and plots the confusion matrix.\n",
    "    Normalization can be applied by setting `normalize=True`.\n",
    "    \"\"\"\n",
    "    if not title:\n",
    "        if normalize:\n",
    "            title = 'Normalized confusion matrix'\n",
    "        else:\n",
    "            title = 'Confusion matrix, without normalization'\n",
    "\n",
    "    # Compute confusion matrix\n",
    "    cm = confusion_matrix(y_true, y_pred)\n",
    "    # Only use the labels that appear in the data\n",
    "    #classes = classes[unique_labels(y_true, y_pred)]\n",
    "    classes = classes\n",
    "    if normalize:\n",
    "        cm = cm.astype('float') / cm.sum(axis=1)[:, np.newaxis]\n",
    "        print(\"Normalized confusion matrix\")\n",
    "    else:\n",
    "        print('Confusion matrix, without normalization')\n",
    "\n",
    "    print(cm)\n",
    "\n",
    "    fig, ax = plt.subplots()\n",
    "    im = ax.imshow(cm, interpolation='nearest', cmap=cmap)\n",
    "    ax.figure.colorbar(im, ax=ax)\n",
    "    # We want to show all ticks...\n",
    "    ax.set(xticks=np.arange(cm.shape[1]),\n",
    "           yticks=np.arange(cm.shape[0]),\n",
    "           # ... and label them with the respective list entries\n",
    "           xticklabels=classes, yticklabels=classes,\n",
    "           title=title,\n",
    "           ylabel='Размечено человеком',\n",
    "           xlabel='Размечено скриптом')\n",
    "\n",
    "    # Rotate the tick labels and set their alignment.\n",
    "    plt.setp(ax.get_xticklabels(), rotation=45, ha=\"right\",\n",
    "             rotation_mode=\"anchor\")\n",
    "\n",
    "    # Loop over data dimensions and create text annotations.\n",
    "    fmt = '.2f' if normalize else 'd'\n",
    "    thresh = cm.max() / 2.\n",
    "    for i in range(cm.shape[0]):\n",
    "        for j in range(cm.shape[1]):\n",
    "            ax.text(j, i, format(cm[i, j], fmt),\n",
    "                    ha=\"center\", va=\"center\",\n",
    "                    color=\"white\" if cm[i, j] > thresh else \"black\")\n",
    "    fig.tight_layout()\n",
    "    return ax\n",
    "y_test = text_level_no_nan['level']\n",
    "y_pred = text_level_no_nan['script_calc_level_int']\n",
    "classes = ['Beginner', 'Elementary/Pre-Intermediate', 'Intermediate', 'Upper-Intermediate', 'Advanced']\n",
    "np.set_printoptions(precision=2)\n",
    "# Plot non-normalized confusion matrix\n",
    "plot_confusion_matrix(y_test, y_pred, classes=classes,title='Confusion matrix, without normalization')\n",
    "\n",
    "# Plot normalized confusion matrix\n",
    "plot_confusion_matrix(y_test, y_pred, classes=classes, normalize=True,\n",
    "                      title='Normalized confusion matrix')\n",
    "\n",
    "plt.show()"
   ]
  }
 ],
 "metadata": {
  "kernelspec": {
   "display_name": "Python 3",
   "language": "python",
   "name": "python3"
  },
  "language_info": {
   "codemirror_mode": {
    "name": "ipython",
    "version": 3
   },
   "file_extension": ".py",
   "mimetype": "text/x-python",
   "name": "python",
   "nbconvert_exporter": "python",
   "pygments_lexer": "ipython3",
   "version": "3.7.3"
  }
 },
 "nbformat": 4,
 "nbformat_minor": 2
}
