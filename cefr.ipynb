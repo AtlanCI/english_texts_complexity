{
 "cells": [
  {
   "cell_type": "code",
   "execution_count": 1,
   "metadata": {},
   "outputs": [],
   "source": [
    "import pandas as pd"
   ]
  },
  {
   "cell_type": "code",
   "execution_count": 17,
   "metadata": {},
   "outputs": [],
   "source": [
    "cefr_properties = {\"A1\":[], \"A2\":[], \"B1\":[], \"B2\":[], \"C1\":[]}\n",
    "level_line = [\"A1\", \"A2\", \"B1\", \"B2\", \"C1\"]\n",
    "current_level = None\n",
    "with open(\"cefr.txt\", \"r\") as f:\n",
    "    for line in f.readlines():\n",
    "        strip_line = line.strip()\n",
    "        if(strip_line in level_line):\n",
    "            current_level = strip_line\n",
    "        else:\n",
    "            cefr_properties[current_level].append(strip_line)\n",
    "        #print(\"||_\",strip_line,\"_||\")\n",
    "        #for char in strip_line:\n",
    "            #print(\"char-\", char)\n",
    "        "
   ]
  },
  {
   "cell_type": "code",
   "execution_count": 18,
   "metadata": {
    "scrolled": true
   },
   "outputs": [
    {
     "data": {
      "text/plain": [
       "{'A1': ['Adjectives: common and demonstrative',\n",
       "  'Adverbs of frequency',\n",
       "  'Comparatives and superlatives',\n",
       "  'Going to',\n",
       "  'How much/how many and very',\n",
       "  'common uncountable nouns',\n",
       "  'I’d like',\n",
       "  'Imperatives (+/-)',\n",
       "  'Intensifiers - very basic',\n",
       "  'Modals: can/can’t/could/couldn’t',\n",
       "  'Past simple of “to be”',\n",
       "  'Past Simple',\n",
       "  'Possessive adjectives',\n",
       "  'Possessive s',\n",
       "  'Prepositions, common',\n",
       "  'Prepositions of place',\n",
       "  'Prepositions of time, including in/on/at',\n",
       "  'Present continuous',\n",
       "  'Present simple',\n",
       "  'Pronouns: simple, personal',\n",
       "  'Questions',\n",
       "  'There is/are',\n",
       "  'To be, including question+negatives',\n",
       "  'Verb + ing: like/hate/love'],\n",
       " 'A2': ['Adjectives – comparative, – use of than and definite article',\n",
       "  'Adjectives – superlative – use of definite article',\n",
       "  'Adverbial phrases of time, place and frequency – including word order',\n",
       "  'Adverbs of frequency',\n",
       "  'Articles – with countable and uncountable nouns',\n",
       "  'Countables and Uncountables: much/many',\n",
       "  'Future Time (will and going to)',\n",
       "  'Gerunds',\n",
       "  'Going to',\n",
       "  'Imperatives',\n",
       "  'Modals – can/could',\n",
       "  'Modals – have to',\n",
       "  'Modals – should',\n",
       "  'Past continuous',\n",
       "  'Past simple',\n",
       "  'Phrasal verbs – common',\n",
       "  'Possessives – use of ‘s, s’',\n",
       "  'Prepositional phrases (place, time and movement)',\n",
       "  'Prepositions of time: on/in/at',\n",
       "  'Present continuous',\n",
       "  'Present continuous for future',\n",
       "  'Present perfect',\n",
       "  'Questions',\n",
       "  'Verb + ing/infinitive: like/want-would like',\n",
       "  'Wh-questions in past',\n",
       "  'Zero and 1st conditional'],\n",
       " 'B1': ['Adverbs',\n",
       "  'Broader range of intensifiers such as too, enough',\n",
       "  'Comparatives and superlatives',\n",
       "  'Complex question tags',\n",
       "  'Conditionals, 2nd and 3rd',\n",
       "  'Connecting words expressing cause and effect, contrast etc.',\n",
       "  'Future continuous',\n",
       "  'Modals - must/can’t deduction',\n",
       "  'Modals – might, may, will, probably',\n",
       "  'Modals – should have/might have/etc',\n",
       "  'Modals: must/have to',\n",
       "  'Past continuous',\n",
       "  'Past perfect',\n",
       "  'Past simple',\n",
       "  'Past tense responses',\n",
       "  'Phrasal verbs, extended',\n",
       "  'Present perfect continuous',\n",
       "  'Present perfect/past simple',\n",
       "  'Reported speech (range of tenses)',\n",
       "  'Simple passive',\n",
       "  'Wh- questions in the past',\n",
       "  'Will and going to, for prediction'],\n",
       " 'B2': ['Adjectives and adverbs',\n",
       "  'Future continuous',\n",
       "  'Future perfect',\n",
       "  'Future perfect continuous',\n",
       "  'Mixed conditionals',\n",
       "  'Modals – can’t have, needn’t have',\n",
       "  'Modals of deduction and speculation',\n",
       "  'Narrative tenses',\n",
       "  'Passives',\n",
       "  'Past perfect',\n",
       "  'Past perfect continuous',\n",
       "  'Phrasal verbs, extended',\n",
       "  'Relative clauses',\n",
       "  'Reported speech',\n",
       "  'Will and going to, for prediction',\n",
       "  'Wish',\n",
       "  'Would expressing habits, in the past'],\n",
       " 'C1': ['Futures (revision)',\n",
       "  'Inversion with negative adverbials',\n",
       "  'Mixed conditionals in past, present and future',\n",
       "  'Modals in the past',\n",
       "  'Narrative tenses for experience, incl. passive',\n",
       "  'Passive forms, all',\n",
       "  'Phrasal verbs, especially splitting',\n",
       "  'Wish/if only regrets']}"
      ]
     },
     "execution_count": 18,
     "metadata": {},
     "output_type": "execute_result"
    }
   ],
   "source": [
    "cefr_properties"
   ]
  },
  {
   "cell_type": "code",
   "execution_count": 19,
   "metadata": {},
   "outputs": [],
   "source": [
    "for key, units in cefr_properties.items():\n",
    "    cefr_properties[key] = set(units)"
   ]
  },
  {
   "cell_type": "code",
   "execution_count": 30,
   "metadata": {},
   "outputs": [
    {
     "name": "stdout",
     "output_type": "stream",
     "text": [
      "10\n",
      "9\n",
      "8\n",
      "7\n",
      "6\n",
      "5\n",
      "4\n",
      "3\n",
      "2\n",
      "1\n",
      "0\n"
     ]
    }
   ],
   "source": [
    "for i in range(10,-1,-1):\n",
    "    print(i)"
   ]
  },
  {
   "cell_type": "code",
   "execution_count": 34,
   "metadata": {},
   "outputs": [
    {
     "data": {
      "text/plain": [
       "{4}"
      ]
     },
     "execution_count": 34,
     "metadata": {},
     "output_type": "execute_result"
    }
   ],
   "source": [
    "a ={1,2,3}\n",
    "b = {2,3,4}\n",
    "b - a"
   ]
  },
  {
   "cell_type": "code",
   "execution_count": 35,
   "metadata": {},
   "outputs": [
    {
     "name": "stdout",
     "output_type": "stream",
     "text": [
      "A2 A1\n",
      "B1 A2\n",
      "B1 A1\n",
      "B2 B1\n",
      "B2 A2\n",
      "B2 A1\n",
      "C1 B2\n",
      "C1 B1\n",
      "C1 A2\n",
      "C1 A1\n"
     ]
    }
   ],
   "source": [
    "final_cefr = {\"A1\":[], \"A2\":[], \"B1\":[], \"B2\":[], \"C1\":[]}\n",
    "level_line = [\"A1\", \"A2\", \"B1\", \"B2\", \"C1\"]\n",
    "for level_ind in range(0, len(level_line)):\n",
    "    #print(level_line[level_ind])\n",
    "    unique_set = cefr_properties[level_line[level_ind]]\n",
    "    for compare in range(level_ind-1,-1,-1):\n",
    "        print(level_line[level_ind],level_line[compare] )\n",
    "        unique_set = unique_set - cefr_properties[level_line[compare]]\n",
    "    final_cefr[level_line[level_ind]] = unique_set"
   ]
  },
  {
   "cell_type": "code",
   "execution_count": 68,
   "metadata": {
    "scrolled": true
   },
   "outputs": [
    {
     "name": "stdout",
     "output_type": "stream",
     "text": [
      "22 26\n"
     ]
    }
   ],
   "source": [
    "level = \"A2\"\n",
    "print(len(final_cefr[level]),len(cefr_properties[level]))"
   ]
  },
  {
   "cell_type": "code",
   "execution_count": 65,
   "metadata": {},
   "outputs": [],
   "source": [
    "df = pd.DataFrame.from_dict(final_cefr, orient='index')\n",
    "df = df.transpose()"
   ]
  },
  {
   "cell_type": "code",
   "execution_count": 66,
   "metadata": {},
   "outputs": [
    {
     "data": {
      "text/html": [
       "<div>\n",
       "<style scoped>\n",
       "    .dataframe tbody tr th:only-of-type {\n",
       "        vertical-align: middle;\n",
       "    }\n",
       "\n",
       "    .dataframe tbody tr th {\n",
       "        vertical-align: top;\n",
       "    }\n",
       "\n",
       "    .dataframe thead th {\n",
       "        text-align: right;\n",
       "    }\n",
       "</style>\n",
       "<table border=\"1\" class=\"dataframe\">\n",
       "  <thead>\n",
       "    <tr style=\"text-align: right;\">\n",
       "      <th></th>\n",
       "      <th>A1</th>\n",
       "      <th>A2</th>\n",
       "      <th>B1</th>\n",
       "      <th>B2</th>\n",
       "      <th>C1</th>\n",
       "    </tr>\n",
       "  </thead>\n",
       "  <tbody>\n",
       "    <tr>\n",
       "      <th>0</th>\n",
       "      <td>Imperatives (+/-)</td>\n",
       "      <td>Imperatives</td>\n",
       "      <td>Modals - must/can’t deduction</td>\n",
       "      <td>Reported speech</td>\n",
       "      <td>Futures (revision)</td>\n",
       "    </tr>\n",
       "    <tr>\n",
       "      <th>1</th>\n",
       "      <td>Prepositions of place</td>\n",
       "      <td>Past continuous</td>\n",
       "      <td>Phrasal verbs, extended</td>\n",
       "      <td>Narrative tenses</td>\n",
       "      <td>Mixed conditionals in past, present and future</td>\n",
       "    </tr>\n",
       "    <tr>\n",
       "      <th>2</th>\n",
       "      <td>Possessive adjectives</td>\n",
       "      <td>Articles – with countable and uncountable nouns</td>\n",
       "      <td>Will and going to, for prediction</td>\n",
       "      <td>Future perfect continuous</td>\n",
       "      <td>Inversion with negative adverbials</td>\n",
       "    </tr>\n",
       "    <tr>\n",
       "      <th>3</th>\n",
       "      <td>Verb + ing: like/hate/love</td>\n",
       "      <td>Adjectives – comparative, – use of than and de...</td>\n",
       "      <td>Future continuous</td>\n",
       "      <td>Adjectives and adverbs</td>\n",
       "      <td>Passive forms, all</td>\n",
       "    </tr>\n",
       "    <tr>\n",
       "      <th>4</th>\n",
       "      <td>How much/how many and very</td>\n",
       "      <td>Present continuous for future</td>\n",
       "      <td>Connecting words expressing cause and effect, ...</td>\n",
       "      <td>Wish</td>\n",
       "      <td>Narrative tenses for experience, incl. passive</td>\n",
       "    </tr>\n",
       "  </tbody>\n",
       "</table>\n",
       "</div>"
      ],
      "text/plain": [
       "                           A1  \\\n",
       "0           Imperatives (+/-)   \n",
       "1       Prepositions of place   \n",
       "2       Possessive adjectives   \n",
       "3  Verb + ing: like/hate/love   \n",
       "4  How much/how many and very   \n",
       "\n",
       "                                                  A2  \\\n",
       "0                                        Imperatives   \n",
       "1                                    Past continuous   \n",
       "2    Articles – with countable and uncountable nouns   \n",
       "3  Adjectives – comparative, – use of than and de...   \n",
       "4                      Present continuous for future   \n",
       "\n",
       "                                                  B1  \\\n",
       "0                      Modals - must/can’t deduction   \n",
       "1                            Phrasal verbs, extended   \n",
       "2                  Will and going to, for prediction   \n",
       "3                                  Future continuous   \n",
       "4  Connecting words expressing cause and effect, ...   \n",
       "\n",
       "                          B2                                              C1  \n",
       "0            Reported speech                              Futures (revision)  \n",
       "1           Narrative tenses  Mixed conditionals in past, present and future  \n",
       "2  Future perfect continuous              Inversion with negative adverbials  \n",
       "3     Adjectives and adverbs                              Passive forms, all  \n",
       "4                       Wish  Narrative tenses for experience, incl. passive  "
      ]
     },
     "execution_count": 66,
     "metadata": {},
     "output_type": "execute_result"
    }
   ],
   "source": [
    "df.head()"
   ]
  },
  {
   "cell_type": "code",
   "execution_count": 67,
   "metadata": {},
   "outputs": [],
   "source": [
    "df.to_csv(\"CEFR_din.csv\")"
   ]
  }
 ],
 "metadata": {
  "kernelspec": {
   "display_name": "Python 3",
   "language": "python",
   "name": "python3"
  },
  "language_info": {
   "codemirror_mode": {
    "name": "ipython",
    "version": 3
   },
   "file_extension": ".py",
   "mimetype": "text/x-python",
   "name": "python",
   "nbconvert_exporter": "python",
   "pygments_lexer": "ipython3",
   "version": "3.7.3"
  }
 },
 "nbformat": 4,
 "nbformat_minor": 2
}
