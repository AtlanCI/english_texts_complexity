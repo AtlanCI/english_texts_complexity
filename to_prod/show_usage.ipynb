{
 "cells": [
  {
   "cell_type": "code",
   "execution_count": 1,
   "metadata": {},
   "outputs": [],
   "source": [
    "from calculate_level_new import get_level_from_raw_text"
   ]
  },
  {
   "cell_type": "code",
   "execution_count": 2,
   "metadata": {},
   "outputs": [],
   "source": [
    "test_text = \"\"\"I was prepared to dislike Max Kelada even before I knew him.  The war had just finished and the passenger traffic in the ocean-going liners was heavy.  Accommodation was very hard to get and you had to put up with whatever the agents chose to offer you.  You could not hope for a cabin to yourself and I was thankful to be given one in which there were only two berths.  But when I was told the name of my companion my heart sank.  It suggested closed portholes and the night air rigidly excluded.  It was bad enough to share a cabin for fourteen days with anyone (I was going from San Francisco to Yokohama, but I should have looked upon it with less dismay if my fellow passenger`s name had been Smith or Brown. \n",
    "\n",
    " When I went on board I found Mr Kelada`s luggage already below.  I did not like the look of it;  there were too many labels on the suit-cases, and the wardrobe trunk was too big.  He had unpacked his toilet things, and I observed that he was a patron of the excellent Monsieur Coty;  for I saw on the washing-stand his scent, his hair-wash and his brilliantine.  Mr Kelada`s brushes, ebony with his monogram in gold, would have been all the better for a scrub.  I did not at all like Mr Kelada.  I made my way into the smoking-room.  I called for a pack of cards and began to play patience.  I had scarcely started before a man came up to me and asked me if he was right in thinking my name was so and so. \n",
    "\n",
    " \"I am Mr Kelada,\" he added, with a smile that showed a row of flashing teeth, and sat down. \n",
    "\n",
    " \"Oh, yes, we`re sharing a cabin, I think.\" \n",
    "\n",
    " \"Bit of luck, I call it.  You never know who you`re going to be put in with.  I was jolly glad when I heard you were English.  I`m all for us English slicking together when we`re abroad, if you understand what I mean.\" \n",
    "\n",
    " I blinked. \n",
    "\n",
    " \"Are you English?\"  I asked, perhaps tactlessly. \n",
    "\n",
    " \"Rather.  You don`t think I look like an American, do you?  British to the backbone, that`s what I am.\" \n",
    "\n",
    " To prove it, Mr Kelada took out of his pocket a passport and airily waved it under my nose. \n",
    "\n",
    " King George has many strange subjects.  Mr Kelada was short and of a sturdy build, clean-shaven and dark-skinned, with a fleshy hooked nose and very large, lustrous and liquid eyes.  His long black hair was sleek and curly.  He spoke with a fluency in which there was nothing English and his gestures were exuberant.  I fell pretty sure that a closer inspection of that British passport would have betrayed the fact that Mr Kelada was born under a bluer sky than is generally seen in England. \n",
    "\n",
    " \"What will you have?\"  he asked me. \"\"\""
   ]
  },
  {
   "cell_type": "code",
   "execution_count": 4,
   "metadata": {},
   "outputs": [
    {
     "name": "stdout",
     "output_type": "stream",
     "text": [
      "CPU times: user 434 ms, sys: 4.21 ms, total: 439 ms\n",
      "Wall time: 439 ms\n"
     ]
    },
    {
     "data": {
      "text/plain": [
       "'Upper-Intermediate'"
      ]
     },
     "execution_count": 4,
     "metadata": {},
     "output_type": "execute_result"
    }
   ],
   "source": [
    "%%time\n",
    "get_level_from_raw_text(test_text)"
   ]
  }
 ],
 "metadata": {
  "kernelspec": {
   "display_name": "Python 3",
   "language": "python",
   "name": "python3"
  },
  "language_info": {
   "codemirror_mode": {
    "name": "ipython",
    "version": 3
   },
   "file_extension": ".py",
   "mimetype": "text/x-python",
   "name": "python",
   "nbconvert_exporter": "python",
   "pygments_lexer": "ipython3",
   "version": "3.7.3"
  }
 },
 "nbformat": 4,
 "nbformat_minor": 2
}
