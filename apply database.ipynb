{
 "cells": [
  {
   "cell_type": "code",
   "execution_count": 47,
   "metadata": {},
   "outputs": [],
   "source": [
    "from calculate_level_new import get_level_from_raw_text"
   ]
  },
  {
   "cell_type": "code",
   "execution_count": 2,
   "metadata": {},
   "outputs": [],
   "source": [
    "import psycopg2"
   ]
  },
  {
   "cell_type": "code",
   "execution_count": 3,
   "metadata": {},
   "outputs": [],
   "source": [
    "conn = psycopg2.connect(dbname='pgstage', user='linguist', \n",
    "                        password='eDQGK0GCStlYlHNV', host='192.168.122.183')"
   ]
  },
  {
   "cell_type": "code",
   "execution_count": 4,
   "metadata": {},
   "outputs": [],
   "source": [
    "cursor = conn.cursor()"
   ]
  },
  {
   "cell_type": "code",
   "execution_count": 13,
   "metadata": {},
   "outputs": [],
   "source": []
  },
  {
   "cell_type": "code",
   "execution_count": 39,
   "metadata": {},
   "outputs": [],
   "source": []
  },
  {
   "cell_type": "code",
   "execution_count": 8,
   "metadata": {},
   "outputs": [
    {
     "data": {
      "text/plain": [
       "(\"What I thought I would talk about today is the transition from one mode of thinking about nature to another that's tracked by architecture.  What's interesting about architects is, we always have tried to justify beauty by looking to nature, and arguably, beautiful architecture has always been looking at a model of nature.\\r\\n\\r\\n So, for roughly 300 years, the hot debate in architecture was whether the number five or the number seven was a better proportion to think about architecture, because the nose was one-fifth of your head, or because your head was one-seventh of your body.  And the reason that that was the model of beauty and of nature was because the decimal point had not been invented yet -- it was in the 16th century -- and everybody had to dimension a building in terms of fractions, so a room would be dimensioned as one-fourth of a facade;  the structural dais of that might be dimensioned as 10 units, and you would get down to the small elements by fractional subdivision: finer and finer and finer.\\r\\n\\r\\n In the 15th century, the decimal point was invented;  architects stopped using fractions, and they had a new model of nature.  So, what's going on today is that there's a model of natural form which is calculus-based and which is using digital tools, and that has a lot of implications to the way we think about beauty and form, and it has a lot of implications in the way we think about nature.  The best example of this would probably be the Gothic, and the Gothic was invented after the invention of calculus, although the Gothic architects weren't really using calculus to define their forms.  But what was important is, the Gothic moment in architecture was the first time that force and motion was thought of in terms of form.\\r\\n\\r\\n So, examples like Christopher Wren's King's Cross: you can see that the structural forces of the vaulting get articulated as lines, so you're really actually seeing the expression of structural force and form.  Much later, Robert Maillart's bridges, which optimize structural form with a calculus curvature almost like a parabola.  The Hanging Chain models of Antonio Gaudi, the Catalan architect.  The end of the 19th century, beginning of the 20th century, and how that Hanging Chain model translates into archways and vaulting.  So, in all of these examples, structure is the determining force.  Frei Otto was starting to use foam bubble diagrams and foam bubble models to generate his Mannheim Concert Hall.  Interestingly in the last ten years Norman Foster used a similar heat thermal transfer model to generate the roof of the National Gallery, with the structural engineer Chris Williams.\\r\\n\\r\\n In all these examples, there's one ideal form, because these are thought in terms of structure.  And as an architect, I've always found these kinds of systems very limiting, because I'm not interested in ideal forms and I'm not interested in optimizing to some perfect moment.\\r\\n\\r\\n So, what I thought I would bring up is another component that needs to be thought of, whenever you think about nature, and that's basically the invention of generic form in genetic evolution.  My hero is actually not Darwin;  it's a guy named William Bateson, father of Greg Bateson, who was here for a long time in Monterey.  And he was what you'd call a teratologist: he looked at all of the monstrosities and mutations to find rules and laws, rather than looking at the norms.  So, instead of trying to find the ideal type or the ideal average, he'd always look for the exception. \",\n",
       " 166)"
      ]
     },
     "execution_count": 8,
     "metadata": {},
     "output_type": "execute_result"
    }
   ],
   "source": [
    "conn.rollback()\n",
    "cursor.execute(\"SELECT jdesc ->>'page_text' AS page_text, jungle_id FROM public.content_jungle_pages LIMIT 20\")\n",
    "cursor.fetchone() "
   ]
  },
  {
   "cell_type": "code",
   "execution_count": 51,
   "metadata": {},
   "outputs": [],
   "source": [
    "import json"
   ]
  },
  {
   "cell_type": "code",
   "execution_count": 54,
   "metadata": {},
   "outputs": [],
   "source": [
    "def write_response (json_file, start_index, final_index):\n",
    "    file_name = './check_results/' + str(start_index) + '-' + str(final_index) +'.json'\n",
    "    print(\"\\nNOW SAVING\", file_name,'\\n')\n",
    "    with open(file_name, 'w', encoding = \"utf-8\") as outfile:\n",
    "        json.dump(json_file, outfile, indent=4, separators=(',', ':'),ensure_ascii=False)"
   ]
  },
  {
   "cell_type": "code",
   "execution_count": null,
   "metadata": {},
   "outputs": [],
   "source": [
    "conn.rollback()\n",
    "cursor.execute(\"SELECT jdesc ->>'page_text' AS page_text, jungle_id FROM public.content_jungle_pages\")\n",
    "level_json = []\n",
    "current_text = {\"text\": '', 'jungle_id':0}\n",
    "check_index = 0\n",
    "start_index = 0\n",
    "for row in cursor:\n",
    "    if(row[1] != current_text['jungle_id']):\n",
    "        if len(current_text['text']) > 0:\n",
    "            print(\"====NEW TEXT (CALCULATE PREVIOUS)====\\n\")\n",
    "            level  = get_level_from_raw_text(current_text['text'])\n",
    "            level_json.append({\"jungle_id\": current_text['jungle_id'], \"level\":level})\n",
    "            current_text = {\"text\": row[0], 'jungle_id':row[1]}\n",
    "        else:\n",
    "            print(\"====FIRST ENTRY====\\n\")\n",
    "            current_text['jungle_id'] = row[1]\n",
    "            current_text['text'] += ' ' + row[0]\n",
    "    else:\n",
    "        print(\"====ADD TEXT TO EXISTING====\\n\")\n",
    "        current_text['text'] += ' ' + row[0]\n",
    "    print(current_text)     \n",
    "    print(\"===NEW ROW==\\n\")\n",
    "    \n",
    "    check_index += 1\n",
    "    if check_index % 250 == 0 and check_index != 0:\n",
    "        write_response(level_json,start_index, check_index )\n",
    "        level_json = []\n",
    "        start_index = check_index\n",
    "if check_index!= start_index:\n",
    "    write_response(level_json,start_index, check_index )\n",
    "#print(level_json)"
   ]
  }
 ],
 "metadata": {
  "kernelspec": {
   "display_name": "Python 3",
   "language": "python",
   "name": "python3"
  },
  "language_info": {
   "codemirror_mode": {
    "name": "ipython",
    "version": 3
   },
   "file_extension": ".py",
   "mimetype": "text/x-python",
   "name": "python",
   "nbconvert_exporter": "python",
   "pygments_lexer": "ipython3",
   "version": "3.7.3"
  }
 },
 "nbformat": 4,
 "nbformat_minor": 2
}
